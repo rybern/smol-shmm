{
 "cells": [
  {
   "cell_type": "markdown",
   "metadata": {},
   "source": [
    "This is meant to be a whirlwind tour of Sequence Modeling Language or SMoL, a domain specific probabalistic programming language for sequences over symbols. SMoL is currently an embedded language in Haskell, this document was generated from a Haskell Jupyter Notebook, but Haskell knowledge shouldn't be necessary.\n",
    "\n",
    "First, I'll show how to build up distributions of sequences with SMoL by composing smaller pieces.\n",
    "Then I'll demonstrate two types of inference from sequence emission data: decoding and parameter inference. Decoding allows the user to make queries on the generative process for the data in terms of the model's branching variables. Parameter inference can infer the posterior parameters in a sequence model, although this is limited at this point."
   ]
  },
  {
   "cell_type": "markdown",
   "metadata": {},
   "source": [
    "# Hello World"
   ]
  },
  {
   "cell_type": "code",
   "execution_count": 27,
   "metadata": {},
   "outputs": [],
   "source": [
    "-- Some imports we need (this is a comment)\n",
    "import SMoL\n",
    "import SMoL.Inference.SHMM\n",
    "import SMoL.Tags.Utils\n",
    "import Control.Monad"
   ]
  },
  {
   "cell_type": "markdown",
   "metadata": {},
   "source": [
    "Let's start with the simplest distribution over non-empty sequences: the distribution that always returns a singleton sequence."
   ]
  },
  {
   "cell_type": "code",
   "execution_count": 3,
   "metadata": {},
   "outputs": [],
   "source": [
    "-- The simplest model, besides the empty model\n",
    "simplest = symbol 'H'"
   ]
  },
  {
   "cell_type": "markdown",
   "metadata": {},
   "source": [
    "`simplest` is a SMoL expression for this distribution. We can compile it and sample from it:"
   ]
  },
  {
   "cell_type": "code",
   "execution_count": 4,
   "metadata": {},
   "outputs": [
    {
     "data": {
      "text/plain": [
       "\"H\"\n",
       "\"H\"\n",
       "\"H\"\n",
       "\"H\"\n",
       "\"H\"\n",
       "\"H\"\n",
       "\"H\"\n",
       "\"H\"\n",
       "\"H\"\n",
       "\"H\""
      ]
     },
     "execution_count": 4,
     "metadata": {},
     "output_type": "execute_result"
    }
   ],
   "source": [
    "printSamples 10 (compileSMoL simplest)"
   ]
  },
  {
   "cell_type": "markdown",
   "metadata": {},
   "source": [
    "Since `simplest` is deterministic, so we'll always get 'H'.\n",
    "\n",
    "Almost as simple:"
   ]
  },
  {
   "cell_type": "code",
   "execution_count": 5,
   "metadata": {},
   "outputs": [],
   "source": [
    "-- Just multiple symbols in a row\n",
    "elloWorld = symbols \"ello world!\""
   ]
  },
  {
   "cell_type": "code",
   "execution_count": 6,
   "metadata": {},
   "outputs": [
    {
     "data": {
      "text/plain": [
       "\"ello world!\"\n",
       "\"ello world!\"\n",
       "\"ello world!\"\n",
       "\"ello world!\"\n",
       "\"ello world!\"\n",
       "\"ello world!\"\n",
       "\"ello world!\"\n",
       "\"ello world!\"\n",
       "\"ello world!\"\n",
       "\"ello world!\""
      ]
     },
     "execution_count": 6,
     "metadata": {},
     "output_type": "execute_result"
    }
   ],
   "source": [
    "printSamples 10 (compileSMoL elloWorld)"
   ]
  },
  {
   "cell_type": "markdown",
   "metadata": {},
   "source": [
    "`elloWorld` is still deterministic like `simplest`, but now the sequence has multiple symbols.\n",
    "\n",
    "We build up more complex distributions over sequences by composing simpler ones. For example, `andThen` is a function that composes two sequence distributions by concatentating their consistituants:"
   ]
  },
  {
   "cell_type": "code",
   "execution_count": 7,
   "metadata": {},
   "outputs": [],
   "source": [
    "-- We can use other models as parts\n",
    "helloWorld = andThen simplest elloWorld"
   ]
  },
  {
   "cell_type": "code",
   "execution_count": 8,
   "metadata": {},
   "outputs": [
    {
     "data": {
      "text/plain": [
       "\"Hello world!\"\n",
       "\"Hello world!\"\n",
       "\"Hello world!\"\n",
       "\"Hello world!\"\n",
       "\"Hello world!\"\n",
       "\"Hello world!\"\n",
       "\"Hello world!\"\n",
       "\"Hello world!\"\n",
       "\"Hello world!\"\n",
       "\"Hello world!\""
      ]
     },
     "execution_count": 8,
     "metadata": {},
     "output_type": "execute_result"
    }
   ],
   "source": [
    "printSamples 10 (compileSMoL helloWorld)"
   ]
  },
  {
   "cell_type": "markdown",
   "metadata": {},
   "source": [
    "Since `simplest`, `elloWorld` and `andThen` were deterministic, so is `helloWorld`.\n",
    "\n",
    "`eitherOr` is another way of composing distributions that is not deterministic. The first argument to `eitherOr` first argument (0.6 in this example) is the probability of sampling from the first distribution rather than the second."
   ]
  },
  {
   "cell_type": "code",
   "execution_count": 0,
   "metadata": {},
   "outputs": [],
   "source": [
    "-- Models can be probabilistic!\n",
    "helloGoodbye =\n",
    "    andThen \n",
    "        (eitherOr 0.6\n",
    "            (symbols \"Hello\")\n",
    "            (symbols \"Goodbye, cruel\"))\n",
    "        (symbols \" world!\")"
   ]
  },
  {
   "cell_type": "code",
   "execution_count": 10,
   "metadata": {},
   "outputs": [
    {
     "data": {
      "text/plain": [
       "\"Hello world!\"\n",
       "\"Goodbye, cruel world!\"\n",
       "\"Goodbye, cruel world!\"\n",
       "\"Goodbye, cruel world!\"\n",
       "\"Hello world!\"\n",
       "\"Hello world!\"\n",
       "\"Hello world!\"\n",
       "\"Goodbye, cruel world!\"\n",
       "\"Hello world!\"\n",
       "\"Hello world!\""
      ]
     },
     "execution_count": 10,
     "metadata": {},
     "output_type": "execute_result"
    }
   ],
   "source": [
    "printSamples 10 (compileSMoL helloGoodbye)"
   ]
  },
  {
   "cell_type": "markdown",
   "metadata": {},
   "source": [
    "`helloGoodbye` now represents the distribution that returns \"Hello world!\" with 60% probability and \"Goodbye, cruel world!\" with 40% probability."
   ]
  },
  {
   "cell_type": "markdown",
   "metadata": {},
   "source": [
    "# Brief introspection"
   ]
  },
  {
   "cell_type": "markdown",
   "metadata": {},
   "source": [
    "This section is safe to skip if you're not interested in the Haskell types of the SMoL expressions we're working with.\n",
    "\n",
    "An uncompiled model is of type `ProbSeq a`, where `a` is the type of the symbol in the sequences."
   ]
  },
  {
   "cell_type": "code",
   "execution_count": 12,
   "metadata": {},
   "outputs": [
    {
     "data": {
      "text/html": [
       "<style>/* Styles used for the Hoogle display in the pager */\n",
       ".hoogle-doc {\n",
       "display: block;\n",
       "padding-bottom: 1.3em;\n",
       "padding-left: 0.4em;\n",
       "}\n",
       ".hoogle-code {\n",
       "display: block;\n",
       "font-family: monospace;\n",
       "white-space: pre;\n",
       "}\n",
       ".hoogle-text {\n",
       "display: block;\n",
       "}\n",
       ".hoogle-name {\n",
       "color: green;\n",
       "font-weight: bold;\n",
       "}\n",
       ".hoogle-head {\n",
       "font-weight: bold;\n",
       "}\n",
       ".hoogle-sub {\n",
       "display: block;\n",
       "margin-left: 0.4em;\n",
       "}\n",
       ".hoogle-package {\n",
       "font-weight: bold;\n",
       "font-style: italic;\n",
       "}\n",
       ".hoogle-module {\n",
       "font-weight: bold;\n",
       "}\n",
       ".hoogle-class {\n",
       "font-weight: bold;\n",
       "}\n",
       ".get-type {\n",
       "color: green;\n",
       "font-weight: bold;\n",
       "font-family: monospace;\n",
       "display: block;\n",
       "white-space: pre-wrap;\n",
       "}\n",
       ".show-type {\n",
       "color: green;\n",
       "font-weight: bold;\n",
       "font-family: monospace;\n",
       "margin-left: 1em;\n",
       "}\n",
       ".mono {\n",
       "font-family: monospace;\n",
       "display: block;\n",
       "}\n",
       ".err-msg {\n",
       "color: red;\n",
       "font-style: italic;\n",
       "font-family: monospace;\n",
       "white-space: pre;\n",
       "display: block;\n",
       "}\n",
       "#unshowable {\n",
       "color: red;\n",
       "font-weight: bold;\n",
       "}\n",
       ".err-msg.in.collapse {\n",
       "padding-top: 0.7em;\n",
       "}\n",
       ".highlight-code {\n",
       "white-space: pre;\n",
       "font-family: monospace;\n",
       "}\n",
       ".suggestion-warning { \n",
       "font-weight: bold;\n",
       "color: rgb(200, 130, 0);\n",
       "}\n",
       ".suggestion-error { \n",
       "font-weight: bold;\n",
       "color: red;\n",
       "}\n",
       ".suggestion-name {\n",
       "font-weight: bold;\n",
       "}\n",
       "</style><span class='get-type'>simplest :: ProbSeq Char</span>"
      ]
     },
     "execution_count": 12,
     "metadata": {},
     "output_type": "execute_result"
    }
   ],
   "source": [
    "simplest :: ProbSeq Char"
   ]
  },
  {
   "cell_type": "markdown",
   "metadata": {},
   "source": [
    "`compileSMoL` is a function from uncompiled `ProbSeq` to the matrix representation of the distribution, `MatSeq`."
   ]
  },
  {
   "cell_type": "code",
   "execution_count": 13,
   "metadata": {},
   "outputs": [
    {
     "data": {
      "text/html": [
       "<style>/* Styles used for the Hoogle display in the pager */\n",
       ".hoogle-doc {\n",
       "display: block;\n",
       "padding-bottom: 1.3em;\n",
       "padding-left: 0.4em;\n",
       "}\n",
       ".hoogle-code {\n",
       "display: block;\n",
       "font-family: monospace;\n",
       "white-space: pre;\n",
       "}\n",
       ".hoogle-text {\n",
       "display: block;\n",
       "}\n",
       ".hoogle-name {\n",
       "color: green;\n",
       "font-weight: bold;\n",
       "}\n",
       ".hoogle-head {\n",
       "font-weight: bold;\n",
       "}\n",
       ".hoogle-sub {\n",
       "display: block;\n",
       "margin-left: 0.4em;\n",
       "}\n",
       ".hoogle-package {\n",
       "font-weight: bold;\n",
       "font-style: italic;\n",
       "}\n",
       ".hoogle-module {\n",
       "font-weight: bold;\n",
       "}\n",
       ".hoogle-class {\n",
       "font-weight: bold;\n",
       "}\n",
       ".get-type {\n",
       "color: green;\n",
       "font-weight: bold;\n",
       "font-family: monospace;\n",
       "display: block;\n",
       "white-space: pre-wrap;\n",
       "}\n",
       ".show-type {\n",
       "color: green;\n",
       "font-weight: bold;\n",
       "font-family: monospace;\n",
       "margin-left: 1em;\n",
       "}\n",
       ".mono {\n",
       "font-family: monospace;\n",
       "display: block;\n",
       "}\n",
       ".err-msg {\n",
       "color: red;\n",
       "font-style: italic;\n",
       "font-family: monospace;\n",
       "white-space: pre;\n",
       "display: block;\n",
       "}\n",
       "#unshowable {\n",
       "color: red;\n",
       "font-weight: bold;\n",
       "}\n",
       ".err-msg.in.collapse {\n",
       "padding-top: 0.7em;\n",
       "}\n",
       ".highlight-code {\n",
       "white-space: pre;\n",
       "font-family: monospace;\n",
       "}\n",
       ".suggestion-warning { \n",
       "font-weight: bold;\n",
       "color: rgb(200, 130, 0);\n",
       "}\n",
       ".suggestion-error { \n",
       "font-weight: bold;\n",
       "color: red;\n",
       "}\n",
       ".suggestion-name {\n",
       "font-weight: bold;\n",
       "}\n",
       "</style><span class='get-type'>compileSMoL :: forall s. Eq s => ProbSeq s -> MatSeq s</span>"
      ]
     },
     "execution_count": 13,
     "metadata": {},
     "output_type": "execute_result"
    }
   ],
   "source": [
    "compileSMoL :: forall s. Eq s => ProbSeq s -> MatSeq s"
   ]
  },
  {
   "cell_type": "markdown",
   "metadata": {},
   "source": [
    "A compiled model is of type `MatSeq a`, where `a` is the type of the symbol in the sequences."
   ]
  },
  {
   "cell_type": "code",
   "execution_count": 14,
   "metadata": {},
   "outputs": [],
   "source": [
    "simplestC = compileSMoL simplest"
   ]
  },
  {
   "cell_type": "code",
   "execution_count": 15,
   "metadata": {},
   "outputs": [
    {
     "data": {
      "text/html": [
       "<style>/* Styles used for the Hoogle display in the pager */\n",
       ".hoogle-doc {\n",
       "display: block;\n",
       "padding-bottom: 1.3em;\n",
       "padding-left: 0.4em;\n",
       "}\n",
       ".hoogle-code {\n",
       "display: block;\n",
       "font-family: monospace;\n",
       "white-space: pre;\n",
       "}\n",
       ".hoogle-text {\n",
       "display: block;\n",
       "}\n",
       ".hoogle-name {\n",
       "color: green;\n",
       "font-weight: bold;\n",
       "}\n",
       ".hoogle-head {\n",
       "font-weight: bold;\n",
       "}\n",
       ".hoogle-sub {\n",
       "display: block;\n",
       "margin-left: 0.4em;\n",
       "}\n",
       ".hoogle-package {\n",
       "font-weight: bold;\n",
       "font-style: italic;\n",
       "}\n",
       ".hoogle-module {\n",
       "font-weight: bold;\n",
       "}\n",
       ".hoogle-class {\n",
       "font-weight: bold;\n",
       "}\n",
       ".get-type {\n",
       "color: green;\n",
       "font-weight: bold;\n",
       "font-family: monospace;\n",
       "display: block;\n",
       "white-space: pre-wrap;\n",
       "}\n",
       ".show-type {\n",
       "color: green;\n",
       "font-weight: bold;\n",
       "font-family: monospace;\n",
       "margin-left: 1em;\n",
       "}\n",
       ".mono {\n",
       "font-family: monospace;\n",
       "display: block;\n",
       "}\n",
       ".err-msg {\n",
       "color: red;\n",
       "font-style: italic;\n",
       "font-family: monospace;\n",
       "white-space: pre;\n",
       "display: block;\n",
       "}\n",
       "#unshowable {\n",
       "color: red;\n",
       "font-weight: bold;\n",
       "}\n",
       ".err-msg.in.collapse {\n",
       "padding-top: 0.7em;\n",
       "}\n",
       ".highlight-code {\n",
       "white-space: pre;\n",
       "font-family: monospace;\n",
       "}\n",
       ".suggestion-warning { \n",
       "font-weight: bold;\n",
       "color: rgb(200, 130, 0);\n",
       "}\n",
       ".suggestion-error { \n",
       "font-weight: bold;\n",
       "color: red;\n",
       "}\n",
       ".suggestion-name {\n",
       "font-weight: bold;\n",
       "}\n",
       "</style><span class='get-type'>simplestC :: MatSeq Char</span>"
      ]
     },
     "execution_count": 15,
     "metadata": {},
     "output_type": "execute_result"
    }
   ],
   "source": [
    "simplestC :: MatSeq Char"
   ]
  },
  {
   "cell_type": "markdown",
   "metadata": {},
   "source": [
    "If we print the value of an uncompiled value like `simplest` from earlier, we get a SMoL AST expression."
   ]
  },
  {
   "cell_type": "code",
   "execution_count": 17,
   "metadata": {},
   "outputs": [
    {
     "data": {
      "text/plain": [
       "symbol ('H')"
      ]
     },
     "execution_count": 17,
     "metadata": {},
     "output_type": "execute_result"
    }
   ],
   "source": [
    "simplest"
   ]
  },
  {
   "cell_type": "markdown",
   "metadata": {},
   "source": [
    "If we print a compiled value, we get the actual matrix form of the distribution as well as some bookkeeping."
   ]
  },
  {
   "cell_type": "code",
   "execution_count": 18,
   "metadata": {},
   "outputs": [
    {
     "data": {
      "text/plain": [
       "MatSeq {trans = SM SparseMatrix 2x2\n",
       "1.0\t0.0\n",
       "0.0\t1.0\n",
       ", stateLabels = [StateLabel {stateLabel = 'H', stateTag = StateTag 0 [], tagSet = fromList []}]}"
      ]
     },
     "execution_count": 18,
     "metadata": {},
     "output_type": "execute_result"
    }
   ],
   "source": [
    "simplestC"
   ]
  },
  {
   "cell_type": "markdown",
   "metadata": {},
   "source": [
    "# More tools"
   ]
  },
  {
   "cell_type": "markdown",
   "metadata": {},
   "source": [
    "This section is a non-exhaustive list of functions that I've built into SMoL for manipulating and composing sequence distributions."
   ]
  },
  {
   "cell_type": "markdown",
   "metadata": {},
   "source": [
    "## `finiteDistRepeat`\n",
    "\n",
    "Repeat an sequence distribution a random number of times according to a given distribution."
   ]
  },
  {
   "cell_type": "code",
   "execution_count": 19,
   "metadata": {},
   "outputs": [
    {
     "data": {
      "text/plain": [
       "\"la, la, \"\n",
       "\"la, la! \"\n",
       "\"la, la! \"\n",
       "\"la! la! la, la, \"\n",
       "\"la, \"\n",
       "\"la, la! \"\n",
       "\"la, la! la, la! la! \"\n",
       "\"la, la, \"\n",
       "\"la, la, \"\n",
       "\"la, la, \""
      ]
     },
     "execution_count": 19,
     "metadata": {},
     "output_type": "execute_result"
    }
   ],
   "source": [
    "repeatModel = finiteDistRepeat [0, 0.1, 0.4, 0, 0.3, 0.2] (andThen (symbols \"la\") (eitherOr 0.5 (symbols \", \") (symbols \"! \")))\n",
    "\n",
    "printSamples 10 (compileSMoL repeatModel)"
   ]
  },
  {
   "cell_type": "markdown",
   "metadata": {},
   "source": [
    "## `finiteDistOver`\n",
    "\n",
    "Choose a sequence distribution at random according to a given distribution. Generalizes `eitherOr`"
   ]
  },
  {
   "cell_type": "code",
   "execution_count": 20,
   "metadata": {},
   "outputs": [
    {
     "data": {
      "text/plain": [
       "\"Today, I like apples.\"\n",
       "\"Today, I like bananas.\"\n",
       "\"Today, I like apples.\"\n",
       "\"Today, I like apples.\"\n",
       "\"Today, I like bananas.\"\n",
       "\"Today, I like apples.\"\n",
       "\"Today, I like bananas.\"\n",
       "\"Today, I like apples.\"\n",
       "\"Today, I like apples.\"\n",
       "\"Today, I like apples.\""
      ]
     },
     "execution_count": 20,
     "metadata": {},
     "output_type": "execute_result"
    }
   ],
   "source": [
    "branchModel = andThen (symbols \"Today, I like \") $\n",
    "    finiteDistOver [\n",
    "        (symbols \"bananas.\", 0.4)\n",
    "      , (symbols \"apples.\", 0.4)\n",
    "      , (symbols \"grapes.\", 0.2)\n",
    "    ]\n",
    "printSamples 10 (compileSMoL branchModel)"
   ]
  },
  {
   "cell_type": "markdown",
   "metadata": {},
   "source": [
    "## `skip`\n",
    "\n",
    "`skip n` is a special symbol that, when emitted, skips the next `n` symbols. `skip 0` doesn't do anything.\n",
    "\n",
    "`possibly`, also shown below, emits nothing with the given probability."
   ]
  },
  {
   "cell_type": "code",
   "execution_count": 21,
   "metadata": {},
   "outputs": [
    {
     "data": {
      "text/plain": [
       "\"do i eat fruit\"\n",
       "\"i eat fruit\"\n",
       "\"do i eat fruit\"\n",
       "\"do i eat fruit\"\n",
       "\"i eat fruit\"\n",
       "\"i eat fruit\"\n",
       "\"do i eat fruit\"\n",
       "\"i eat fruit\"\n",
       "\"do i eat fruit\"\n",
       "\"do i eat fruit\""
      ]
     },
     "execution_count": 21,
     "metadata": {},
     "output_type": "execute_result"
    }
   ],
   "source": [
    "skipModel = andThen (possibly 0.5 (skip 3)) (symbols \"do i eat fruit\")\n",
    "printSamples 10 (compileSMoL skipModel)"
   ]
  },
  {
   "cell_type": "markdown",
   "metadata": {},
   "source": [
    "## `skipDist`\n",
    "\n",
    "Insert a `skip n`, where `n` is drawn from a given distribution, before each symbol of the given sequence distribution."
   ]
  },
  {
   "cell_type": "code",
   "execution_count": 22,
   "metadata": {},
   "outputs": [
    {
     "data": {
      "text/plain": [
       "\"di eatfui\"\n",
       "\"doieatt fruit\"\n",
       "\"doo  t ruutt\"\n",
       "\"dd ii e uitt\"\n",
       "\"oo i aatfrri\"\n",
       "\"doi  t uiit\"\n",
       "\"o eaa ffrrrit\"\n",
       "\"o   ea fruitt\"\n",
       "\"d ieeaat  fritt\"\n",
       "\"o eat ffrruii\""
      ]
     },
     "execution_count": 22,
     "metadata": {},
     "output_type": "execute_result"
    }
   ],
   "source": [
    "skipDistModel = skipDist [0.2, 0.5, 0.2, 0.1] (symbols \"do i eat fruit\")\n",
    "printSamples 10 (compileSMoL skipDistModel)"
   ]
  },
  {
   "cell_type": "markdown",
   "metadata": {},
   "source": [
    "## `collapse`\n",
    "\n",
    "Transform each constituant sequence in a given distribution to the sequence of sliding windows (or De Bruijn graph nodes) of a given length."
   ]
  },
  {
   "cell_type": "code",
   "execution_count": 23,
   "metadata": {},
   "outputs": [
    {
     "data": {
      "text/plain": [
       "[\"do \",\"o i\",\" i \",\"i e\",\" ea\",\"eat\",\"at \",\"t f\",\" fr\",\"fru\",\"rui\",\"uit\"]\n",
       "[\"do \",\"o i\",\" i \",\"i e\",\" ea\",\"eat\",\"at \",\"t f\",\" fr\",\"fru\",\"rui\",\"uit\"]\n",
       "[\"do \",\"o i\",\" i \",\"i e\",\" ea\",\"eat\",\"at \",\"t f\",\" fr\",\"fru\",\"rui\",\"uit\"]\n",
       "[\"do \",\"o i\",\" i \",\"i e\",\" ea\",\"eat\",\"at \",\"t f\",\" fr\",\"fru\",\"rui\",\"uit\"]\n",
       "[\"do \",\"o i\",\" i \",\"i e\",\" ea\",\"eat\",\"at \",\"t f\",\" fr\",\"fru\",\"rui\",\"uit\"]\n",
       "[\"do \",\"o i\",\" i \",\"i e\",\" ea\",\"eat\",\"at \",\"t f\",\" fr\",\"fru\",\"rui\",\"uit\"]\n",
       "[\"do \",\"o i\",\" i \",\"i e\",\" ea\",\"eat\",\"at \",\"t f\",\" fr\",\"fru\",\"rui\",\"uit\"]\n",
       "[\"do \",\"o i\",\" i \",\"i e\",\" ea\",\"eat\",\"at \",\"t f\",\" fr\",\"fru\",\"rui\",\"uit\"]\n",
       "[\"do \",\"o i\",\" i \",\"i e\",\" ea\",\"eat\",\"at \",\"t f\",\" fr\",\"fru\",\"rui\",\"uit\"]\n",
       "[\"do \",\"o i\",\" i \",\"i e\",\" ea\",\"eat\",\"at \",\"t f\",\" fr\",\"fru\",\"rui\",\"uit\"]"
      ]
     },
     "execution_count": 23,
     "metadata": {},
     "output_type": "execute_result"
    }
   ],
   "source": [
    "-- Read: collapse 3 (symbols \"do i eat fruit\")\n",
    "collapseModel = collapse undefined (foldl1 (++)) 3 (symbols (map (:[]) \"do i eat fruit\"))\n",
    "printSamples 10 (compileSMoL collapseModel)"
   ]
  },
  {
   "cell_type": "markdown",
   "metadata": {},
   "source": [
    "# Example application: MinION Sequencer"
   ]
  },
  {
   "cell_type": "markdown",
   "metadata": {},
   "source": [
    "SMoL was originally motivated by the problem of genotyping DNA given the singal from the Oxford Nanopore Technologies MinION Sequencer. Using SMoL, I can write a very concise and expressive solution to this decoding problem.\n",
    "\n",
    "DNA is fed into the MinION machine, and a signal is read out. The goal is to be able to use prior information about the input DNA, represented by a SMoL expression, and transform it to a signal-level model, another SMoL expression. To accomplish this, we encode the domain-specific knowledge about how the MinION works - we can encapsulate this knowledge here, and future users can use it.\n",
    "\n",
    "The MinION signal transformation takes a sliding window over the DNA sequence, with random skips. In SMoL, this is equivalent to a `skipDist` and a `collapse`."
   ]
  },
  {
   "cell_type": "code",
   "execution_count": 24,
   "metadata": {},
   "outputs": [],
   "source": [
    "type NT = Char\n",
    "\n",
    "k = 4\n",
    "\n",
    "ntSymbols :: [NT] -> ProbSeq [NT]\n",
    "ntSymbols = symbols . map (:[])\n",
    "\n",
    "-- Here is the function we want: map from DNA level models to signal level models.\n",
    "minion :: ProbSeq [NT] -> ProbSeq [NT]\n",
    "minion = skipDist [0.4, 0.3, 0.2, 0.1]\n",
    "       . collapse undefined (foldl1 (++)) k\n"
   ]
  },
  {
   "cell_type": "markdown",
   "metadata": {},
   "source": [
    "Below is an example of how the MinION transfors a DNA sequence. In this case, we know the DNA sequence for sure, and we take 10 samples."
   ]
  },
  {
   "cell_type": "code",
   "execution_count": 25,
   "metadata": {},
   "outputs": [
    {
     "data": {
      "text/plain": [
       "[\"CGTA\",\"ACAC\",\"CACG\",\"CACG\",\"ACGT\",\"CGTA\",\"ATGA\",\"ATGA\",\"ATGA\",\"ATGA\",\"ATGA\",\"TGAC\"]\n",
       "[\"ACGT\",\"ACGT\",\"ACGT\",\"GTAC\",\"GTAC\",\"GTAC\",\"GTAC\",\"TACA\",\"ACAC\",\"ACAC\",\"ACAC\",\"ACGT\",\"ACGT\",\"ACGT\",\"GTAT\",\"TATG\",\"TGAC\",\"TGAC\",\"TGAC\",\"TGAC\"]\n",
       "[\"CGTA\",\"CGTA\",\"ACAC\",\"ACAC\",\"ACAC\",\"ACAC\",\"ACGT\",\"CGTA\",\"CGTA\",\"CGTA\",\"GTAT\",\"TATG\",\"TGAC\",\"TGAC\",\"TGAC\",\"TGAC\"]\n",
       "[\"ACGT\",\"ACGT\",\"CGTA\",\"CGTA\",\"GTAC\",\"GTAC\",\"TACA\",\"ACAC\",\"ACGT\",\"ACGT\",\"GTAT\",\"TATG\",\"ATGA\",\"TGAC\"]\n",
       "[\"GTAC\",\"TACA\",\"CACG\",\"CGTA\",\"CGTA\",\"CGTA\",\"ATGA\",\"ATGA\",\"ATGA\"]\n",
       "[\"ACGT\",\"ACGT\",\"GTAC\",\"GTAC\",\"ACAC\",\"ACGT\",\"CGTA\",\"CGTA\",\"ATGA\"]\n",
       "[\"GTAC\",\"ACAC\",\"CACG\",\"ACGT\",\"ACGT\",\"CGTA\",\"GTAT\",\"GTAT\",\"GTAT\",\"TATG\",\"ATGA\"]\n",
       "[\"CGTA\",\"TACA\",\"ACAC\",\"ACAC\",\"ACAC\",\"ACGT\",\"ACGT\",\"ACGT\",\"CGTA\",\"GTAT\",\"GTAT\",\"GTAT\",\"ATGA\",\"ATGA\",\"TGAC\",\"TGAC\"]\n",
       "[\"ACGT\",\"GTAC\",\"ACAC\",\"ACAC\",\"ACAC\",\"CACG\",\"CACG\",\"ACGT\",\"GTAT\",\"TATG\",\"TATG\",\"ATGA\",\"TGAC\"]\n",
       "[\"GTAC\",\"GTAC\",\"TACA\",\"TACA\",\"TACA\",\"TACA\",\"TACA\",\"TACA\",\"ACAC\",\"CACG\",\"CACG\",\"ACGT\",\"ACGT\",\"GTAT\",\"TATG\",\"ATGA\",\"ATGA\",\"TGAC\"]"
      ]
     },
     "execution_count": 25,
     "metadata": {},
     "output_type": "execute_result"
    }
   ],
   "source": [
    "printSamples 10 . compileSMoL $ minion (ntSymbols \"ACGTACACGTATGAC\")"
   ]
  },
  {
   "cell_type": "markdown",
   "metadata": {},
   "source": [
    "You can get the idea from the samples - MinION events are 4-wide sliding windows over the input sequence, with random skips and random stalls. The MinION machine's signal is translated into a distribution over these 4-tuples at each time point, which is the matrix passed to SMoL."
   ]
  },
  {
   "cell_type": "markdown",
   "metadata": {},
   "source": [
    "# Inference: Decoding"
   ]
  },
  {
   "cell_type": "code",
   "execution_count": 0,
   "metadata": {},
   "outputs": [],
   "source": [
    "So far, we've defined sequence distributions and sampled from them. We can also do two kinds of inference on sequence data. Let's start with decoding.\n",
    "\n",
    "We can take a SMoL expression defining our model and some data describing a sequence of distributions over symbols, and we can calculate high-level queries on the process that generated the data.\n",
    "\n",
    "Below, I define a SMoL model and keep references to 'decision' points in the generative process."
   ]
  },
  {
   "cell_type": "code",
   "execution_count": 28,
   "metadata": {},
   "outputs": [
    {
     "data": {
      "text/plain": [
       "\"ad\"\n",
       "\"ad\"\n",
       "\"cd\"\n",
       "\"ad\"\n",
       "\"ad\"\n",
       "\"ad\"\n",
       "\"ad\"\n",
       "\"cd\"\n",
       "\"aaad\"\n",
       "\"ad\""
      ]
     },
     "execution_count": 28,
     "metadata": {},
     "output_type": "execute_result"
    }
   ],
   "source": [
    "model :: ProbSeq Char\n",
    "vars :: (Tag Int, Tag Bool)\n",
    "(model, vars) = runTagGen $ \n",
    "  -- The random variable \"a\" represents the number of times the symbol is repeated\n",
    "  (ps1, a) <- finiteDistRepeatM [0.8,0.1,0.1] (symbol 'a')\n",
    "  \n",
    "  -- The random variable \"b\" represents the branch taken\n",
    "  (ps2, b) <- eitherOrM 0.5 ps1 (symbol 'c')\n",
    "  \n",
    "  let ps = andThen ps2 (symbol 'd')\n",
    "  return (ps, (a, b))\n",
    "\n",
    "-- Sample from the model, just as before\n",
    "printSamples 10 (compileSMoL model)"
   ]
  },
  {
   "cell_type": "markdown",
   "metadata": {},
   "source": [
    "As an example, let's generate some sample data from the model.\n",
    "\n",
    "The matrix that's printed has a row for each point in the sequence, and a column for each symbol."
   ]
  },
  {
   "cell_type": "code",
   "execution_count": 31,
   "metadata": {},
   "outputs": [
    {
     "data": {
      "text/plain": [
       "\"cd\""
      ]
     },
     "execution_count": 31,
     "metadata": {},
     "output_type": "execute_result"
    },
    {
     "data": {
      "text/plain": [
       "[0.125,0.125,0.5,0.125]\n",
       "[0.125,0.125,0.125,0.5]"
      ]
     },
     "execution_count": 31,
     "metadata": {},
     "output_type": "execute_result"
    }
   ],
   "source": [
    "s <- sample (compileSMoL model)\n",
    "observations = simulateEmissionsUniform \"abcd\" 0.5 s\n",
    "\n",
    "print s\n",
    "mapM_ print . emissions $ observations"
   ]
  },
  {
   "cell_type": "markdown",
   "metadata": {},
   "source": [
    "We can directly take the posterior over the symbols given our model and the data. There are more columns now, because instead of distributions over symbols, we now have distributions over generating states from our model."
   ]
  },
  {
   "cell_type": "code",
   "execution_count": 32,
   "metadata": {},
   "outputs": [
    {
     "data": {
      "text/plain": [
       "[0.16666666666666666,0.0,0.0,0.0,0.0,0.8333333333333333,0.0]\n",
       "[0.0,0.0,0.0,0.0,0.0,0.0,1.0]"
      ]
     },
     "execution_count": 32,
     "metadata": {},
     "output_type": "execute_result"
    }
   ],
   "source": [
    "posterior = fullPosteriorSHMM observations (compileSMoL model)\n",
    "\n",
    "mapM_ print posterior"
   ]
  },
  {
   "cell_type": "markdown",
   "metadata": {},
   "source": [
    "The posterior matrix above isn't very user friendly, we would ask queries in the language of our generating model.\n",
    "\n",
    "To this end, there is a second DSL for defining queries. Below, I define a SMoL query that uses the random variables `a` and `b`. I can query the probability of events of one or more variable, as well as conditional probabilities."
   ]
  },
  {
   "cell_type": "code",
   "execution_count": 33,
   "metadata": {},
   "outputs": [],
   "source": [
    "query (a, b) = do\n",
    "  aDist <- tagDist a\n",
    "  \n",
    "  -- p(a = 1 | b is first branch)\n",
    "  anb <- condition1 b id $ event1 a (== 1)\n",
    "  \n",
    "  -- p(b is first branch)\n",
    "  yb <- event1 b (== True)\n",
    "  -- p(a > 1)\n",
    "  ya <- event1 a (> 1)\n",
    "  \n",
    "  -- Return p(b is first branch)\n",
    "  return yb"
   ]
  },
  {
   "cell_type": "code",
   "execution_count": 34,
   "metadata": {},
   "outputs": [
    {
     "data": {
      "text/html": [
       "<style>/* Styles used for the Hoogle display in the pager */\n",
       ".hoogle-doc {\n",
       "display: block;\n",
       "padding-bottom: 1.3em;\n",
       "padding-left: 0.4em;\n",
       "}\n",
       ".hoogle-code {\n",
       "display: block;\n",
       "font-family: monospace;\n",
       "white-space: pre;\n",
       "}\n",
       ".hoogle-text {\n",
       "display: block;\n",
       "}\n",
       ".hoogle-name {\n",
       "color: green;\n",
       "font-weight: bold;\n",
       "}\n",
       ".hoogle-head {\n",
       "font-weight: bold;\n",
       "}\n",
       ".hoogle-sub {\n",
       "display: block;\n",
       "margin-left: 0.4em;\n",
       "}\n",
       ".hoogle-package {\n",
       "font-weight: bold;\n",
       "font-style: italic;\n",
       "}\n",
       ".hoogle-module {\n",
       "font-weight: bold;\n",
       "}\n",
       ".hoogle-class {\n",
       "font-weight: bold;\n",
       "}\n",
       ".get-type {\n",
       "color: green;\n",
       "font-weight: bold;\n",
       "font-family: monospace;\n",
       "display: block;\n",
       "white-space: pre-wrap;\n",
       "}\n",
       ".show-type {\n",
       "color: green;\n",
       "font-weight: bold;\n",
       "font-family: monospace;\n",
       "margin-left: 1em;\n",
       "}\n",
       ".mono {\n",
       "font-family: monospace;\n",
       "display: block;\n",
       "}\n",
       ".err-msg {\n",
       "color: red;\n",
       "font-style: italic;\n",
       "font-family: monospace;\n",
       "white-space: pre;\n",
       "display: block;\n",
       "}\n",
       "#unshowable {\n",
       "color: red;\n",
       "font-weight: bold;\n",
       "}\n",
       ".err-msg.in.collapse {\n",
       "padding-top: 0.7em;\n",
       "}\n",
       ".highlight-code {\n",
       "white-space: pre;\n",
       "font-family: monospace;\n",
       "}\n",
       ".suggestion-warning { \n",
       "font-weight: bold;\n",
       "color: rgb(200, 130, 0);\n",
       "}\n",
       ".suggestion-error { \n",
       "font-weight: bold;\n",
       "color: red;\n",
       "}\n",
       ".suggestion-name {\n",
       "font-weight: bold;\n",
       "}\n",
       "</style><span class='get-type'>runQuery :: forall d a b. (Show d, Ord d) => (ProbSeq d, a) -> (a -> Query b) -> Emissions d -> b</span>"
      ]
     },
     "execution_count": 34,
     "metadata": {},
     "output_type": "execute_result"
    }
   ],
   "source": [
    "-- The SMoL function runQuery takes a model with variables, a query, some data, and returns the results of the query.\n",
    "runQuery :: (ProbSeq d, a) -> (a -> Query b) -> Emissions d -> b"
   ]
  },
  {
   "cell_type": "code",
   "execution_count": 0,
   "metadata": {},
   "outputs": [],
   "source": [
    "runQuery (model, vars) query observations\n",
    "\n",
    "0.01"
   ]
  },
  {
   "cell_type": "markdown",
   "metadata": {},
   "source": [
    "# Inference: Branch index posteriors"
   ]
  },
  {
   "cell_type": "markdown",
   "metadata": {},
   "source": [
    "SMoL can also do posterior inference over the branch indices in a sequence distribution. In this section, I use a MinION inference problem as an example. I will define a true model and a prior model, and show that the prior model learns the true model from data. This example performs Short Tandem Repeat (STR) allele inference."
   ]
  },
  {
   "cell_type": "code",
   "execution_count": 38,
   "metadata": {},
   "outputs": [],
   "source": [
    "strSegment = ntSymbols \"ACT\"\n",
    "\n",
    "-- This function constructs a SMoL MinION model given a sub-model to define the center region.\n",
    "strProblem strModel = minion $ series [\n",
    "      ntSymbols \"ACGTACACGTATGAC\"\n",
    "    , strModel\n",
    "    , ntSymbols \"TACCAGTTGACAGAT\"\n",
    "    ]"
   ]
  },
  {
   "cell_type": "code",
   "execution_count": 39,
   "metadata": {},
   "outputs": [],
   "source": [
    "-- The true model repeats the \"ACT\" sequence exactly 3 times.\n",
    "strTruth = strProblem (repeatSequence 3 strSegment)\n",
    "strTruthC = compileSMoL strTruth"
   ]
  },
  {
   "cell_type": "code",
   "execution_count": 40,
   "metadata": {},
   "outputs": [],
   "source": [
    "-- This function constructs a model given a prior distribution over the number of \"ACT\" repeats.\n",
    "-- The parameter is what we're going to infer.\n",
    "strModel :: [Prob] -> (ProbSeq [NT], Tag Int)\n",
    "strModel prior = runTagGen $ do\n",
    "    (ps, repeatVar) <- finiteDistRepeatM prior strSegment\n",
    "    return (strProblem ps, repeatVar)\n",
    "\n",
    "-- Define a query that just returns the infered parameter to the model.\n",
    "strQuery :: Tag Int -> Query [Prob]\n",
    "strQuery repeatVar = do\n",
    "    posteriorDist <- tagDist repeatVar\n",
    "    let (Just distList) = sequence (map (flip Map.lookup posteriorDist) [1..4])\n",
    "    return distList"
   ]
  },
  {
   "cell_type": "code",
   "execution_count": 41,
   "metadata": {},
   "outputs": [],
   "source": [
    "-- This expression randomly generates a sample from the true distribution.\n",
    "simulateSTR :: IO (Emissions [NT])\n",
    "simulateSTR = do\n",
    "    s <- sample strTruthC\n",
    "    return (simulateEmissionsUniform (minionSymbols k) 0.5 s)"
   ]
  },
  {
   "cell_type": "code",
   "execution_count": 42,
   "metadata": {},
   "outputs": [
    {
     "data": {
      "text/html": [
       "<style>/* Styles used for the Hoogle display in the pager */\n",
       ".hoogle-doc {\n",
       "display: block;\n",
       "padding-bottom: 1.3em;\n",
       "padding-left: 0.4em;\n",
       "}\n",
       ".hoogle-code {\n",
       "display: block;\n",
       "font-family: monospace;\n",
       "white-space: pre;\n",
       "}\n",
       ".hoogle-text {\n",
       "display: block;\n",
       "}\n",
       ".hoogle-name {\n",
       "color: green;\n",
       "font-weight: bold;\n",
       "}\n",
       ".hoogle-head {\n",
       "font-weight: bold;\n",
       "}\n",
       ".hoogle-sub {\n",
       "display: block;\n",
       "margin-left: 0.4em;\n",
       "}\n",
       ".hoogle-package {\n",
       "font-weight: bold;\n",
       "font-style: italic;\n",
       "}\n",
       ".hoogle-module {\n",
       "font-weight: bold;\n",
       "}\n",
       ".hoogle-class {\n",
       "font-weight: bold;\n",
       "}\n",
       ".get-type {\n",
       "color: green;\n",
       "font-weight: bold;\n",
       "font-family: monospace;\n",
       "display: block;\n",
       "white-space: pre-wrap;\n",
       "}\n",
       ".show-type {\n",
       "color: green;\n",
       "font-weight: bold;\n",
       "font-family: monospace;\n",
       "margin-left: 1em;\n",
       "}\n",
       ".mono {\n",
       "font-family: monospace;\n",
       "display: block;\n",
       "}\n",
       ".err-msg {\n",
       "color: red;\n",
       "font-style: italic;\n",
       "font-family: monospace;\n",
       "white-space: pre;\n",
       "display: block;\n",
       "}\n",
       "#unshowable {\n",
       "color: red;\n",
       "font-weight: bold;\n",
       "}\n",
       ".err-msg.in.collapse {\n",
       "padding-top: 0.7em;\n",
       "}\n",
       ".highlight-code {\n",
       "white-space: pre;\n",
       "font-family: monospace;\n",
       "}\n",
       ".suggestion-warning { \n",
       "font-weight: bold;\n",
       "color: rgb(200, 130, 0);\n",
       "}\n",
       ".suggestion-error { \n",
       "font-weight: bold;\n",
       "color: red;\n",
       "}\n",
       ".suggestion-name {\n",
       "font-weight: bold;\n",
       "}\n",
       "</style><span class='get-type'>sim1 :: Emissions [NT]</span>"
      ]
     },
     "execution_count": 42,
     "metadata": {},
     "output_type": "execute_result"
    }
   ],
   "source": [
    "sim1 <- simulateSTR"
   ]
  },
  {
   "cell_type": "code",
   "execution_count": 44,
   "metadata": {},
   "outputs": [
    {
     "data": {
      "text/html": [
       "<style>/* Styles used for the Hoogle display in the pager */\n",
       ".hoogle-doc {\n",
       "display: block;\n",
       "padding-bottom: 1.3em;\n",
       "padding-left: 0.4em;\n",
       "}\n",
       ".hoogle-code {\n",
       "display: block;\n",
       "font-family: monospace;\n",
       "white-space: pre;\n",
       "}\n",
       ".hoogle-text {\n",
       "display: block;\n",
       "}\n",
       ".hoogle-name {\n",
       "color: green;\n",
       "font-weight: bold;\n",
       "}\n",
       ".hoogle-head {\n",
       "font-weight: bold;\n",
       "}\n",
       ".hoogle-sub {\n",
       "display: block;\n",
       "margin-left: 0.4em;\n",
       "}\n",
       ".hoogle-package {\n",
       "font-weight: bold;\n",
       "font-style: italic;\n",
       "}\n",
       ".hoogle-module {\n",
       "font-weight: bold;\n",
       "}\n",
       ".hoogle-class {\n",
       "font-weight: bold;\n",
       "}\n",
       ".get-type {\n",
       "color: green;\n",
       "font-weight: bold;\n",
       "font-family: monospace;\n",
       "display: block;\n",
       "white-space: pre-wrap;\n",
       "}\n",
       ".show-type {\n",
       "color: green;\n",
       "font-weight: bold;\n",
       "font-family: monospace;\n",
       "margin-left: 1em;\n",
       "}\n",
       ".mono {\n",
       "font-family: monospace;\n",
       "display: block;\n",
       "}\n",
       ".err-msg {\n",
       "color: red;\n",
       "font-style: italic;\n",
       "font-family: monospace;\n",
       "white-space: pre;\n",
       "display: block;\n",
       "}\n",
       "#unshowable {\n",
       "color: red;\n",
       "font-weight: bold;\n",
       "}\n",
       ".err-msg.in.collapse {\n",
       "padding-top: 0.7em;\n",
       "}\n",
       ".highlight-code {\n",
       "white-space: pre;\n",
       "font-family: monospace;\n",
       "}\n",
       ".suggestion-warning { \n",
       "font-weight: bold;\n",
       "color: rgb(200, 130, 0);\n",
       "}\n",
       ".suggestion-error { \n",
       "font-weight: bold;\n",
       "color: red;\n",
       "}\n",
       ".suggestion-name {\n",
       "font-weight: bold;\n",
       "}\n",
       "</style><span class='get-type'>updates :: forall b a c. (Show b, Ord b) => (a -> (ProbSeq b, c)) -> (c -> Query a) -> a -> [Emissions b] -> a</span>"
      ]
     },
     "execution_count": 44,
     "metadata": {},
     "output_type": "execute_result"
    }
   ],
   "source": [
    "-- This SMoL function takes as input:\n",
    "--    1. A function from the parameter to a model with random variables\n",
    "--    2. A function from random variables to a SMoL query\n",
    "--    3. A first, prior setting for the parameter\n",
    "--    4. A set of sequence data matricies to learn from\n",
    "-- And returns as output the final parameter.\n",
    "\n",
    "updates :: (a -> (ProbSeq b, c)) -> (c -> Query a) -> a -> [Emissions b] -> a"
   ]
  },
  {
   "cell_type": "code",
   "execution_count": 45,
   "metadata": {},
   "outputs": [
    {
     "data": {
      "text/plain": [
       "[1.800368398168107e-11,2.2899140151477957e-2,0.8986217921194574,7.847906771106108e-2]"
      ]
     },
     "execution_count": 45,
     "metadata": {},
     "output_type": "execute_result"
    }
   ],
   "source": [
    "-- Get 5 simulated data matricies\n",
    "simulations <- replicateM 5 simulateSTR\n",
    "\n",
    "-- Run inference\n",
    "updates strModel strQuery [0.25, 0.25, 0.25, 0.25] simulations"
   ]
  },
  {
   "cell_type": "markdown",
   "metadata": {},
   "source": [
    "Our model, given five noisy examples, assigned 90% posterior probability to the true model, 3 repeats of \"ACT\"."
   ]
  }
 ],
 "metadata": {
  "kernelspec": {
   "display_name": "Haskell",
   "language": "haskell",
   "name": "haskell"
  },
  "language_info": {
   "codemirror_mode": "ihaskell",
   "file_extension": ".hs",
   "name": "haskell",
   "pygments_lexer": "Haskell",
   "version": "8.4.3"
  }
 },
 "nbformat": 4,
 "nbformat_minor": 1
}
