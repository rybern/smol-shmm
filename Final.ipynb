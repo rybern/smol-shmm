{
 "cells": [
  {
   "cell_type": "markdown",
   "metadata": {},
   "source": [
    "This is meant to be a whirlwind tour of Sequence Modeling Language or SMoL, a domain specific probabalistic programming language for sequences over symbols. SMoL is currently an embedded language in Haskell, this document was generated from a Haskell Jupyter Notebook, but Haskell knowledge shouldn't be necessary.\n",
    "\n",
    "First, I'll show how to build up distributions of sequences with SMoL by composing smaller pieces.\n",
    "Then I'll demonstrate two types of inference from sequence emission data: decoding and parameter inference. Decoding allows the user to make queries on the generative process for the data in terms of the model's branching variables. Parameter inference can infer the posterior parameters in a sequence model, although this is limited at this point."
   ]
  },
  {
   "cell_type": "markdown",
   "metadata": {},
   "source": [
    "# Hello World"
   ]
  },
  {
   "cell_type": "code",
   "execution_count": 27,
   "metadata": {},
   "outputs": [],
   "source": [
    "-- Some imports we need (this is a comment)\n",
    "import SMoL\n",
    "import SMoL.Inference.SHMM\n",
    "import SMoL.Tags.Utils\n",
    "import Control.Monad"
   ]
  },
  {
   "cell_type": "markdown",
   "metadata": {},
   "source": [
    "Let's start with the simplest distribution over non-empty sequences: the distribution that always returns a singleton sequence."
   ]
  },
  {
   "cell_type": "code",
   "execution_count": 3,
   "metadata": {},
   "outputs": [],
   "source": [
    "-- The simplest model, besides the empty model\n",
    "simplest = symbol 'H'"
   ]
  },
  {
   "cell_type": "markdown",
   "metadata": {},
   "source": [
    "`simplest` is a SMoL expression for this distribution. We can compile it and sample from it:"
   ]
  },
  {
   "cell_type": "code",
   "execution_count": 4,
   "metadata": {},
   "outputs": [
    {
     "data": {
      "text/plain": [
       "\"H\"\n",
       "\"H\"\n",
       "\"H\"\n",
       "\"H\"\n",
       "\"H\"\n",
       "\"H\"\n",
       "\"H\"\n",
       "\"H\"\n",
       "\"H\"\n",
       "\"H\""
      ]
     },
     "execution_count": 4,
     "metadata": {},
     "output_type": "execute_result"
    }
   ],
   "source": [
    "printSamples 10 (compileSMoL simplest)"
   ]
  },
  {
   "cell_type": "markdown",
   "metadata": {},
   "source": [
    "Since `simplest` is deterministic, so we'll always get 'H'.\n",
    "\n",
    "Almost as simple:"
   ]
  },
  {
   "cell_type": "code",
   "execution_count": 5,
   "metadata": {},
   "outputs": [],
   "source": [
    "-- Just multiple symbols in a row\n",
    "elloWorld = symbols \"ello world!\""
   ]
  },
  {
   "cell_type": "code",
   "execution_count": 6,
   "metadata": {},
   "outputs": [
    {
     "data": {
      "text/plain": [
       "\"ello world!\"\n",
       "\"ello world!\"\n",
       "\"ello world!\"\n",
       "\"ello world!\"\n",
       "\"ello world!\"\n",
       "\"ello world!\"\n",
       "\"ello world!\"\n",
       "\"ello world!\"\n",
       "\"ello world!\"\n",
       "\"ello world!\""
      ]
     },
     "execution_count": 6,
     "metadata": {},
     "output_type": "execute_result"
    }
   ],
   "source": [
    "printSamples 10 (compileSMoL elloWorld)"
   ]
  },
  {
   "cell_type": "markdown",
   "metadata": {},
   "source": [
    "`elloWorld` is still deterministic like `simplest`, but now the sequence has multiple symbols.\n",
    "\n",
    "We build up more complex distributions over sequences by composing simpler ones. For example, `andThen` is a function that composes two sequence distributions by concatentating their consistituants:"
   ]
  },
  {
   "cell_type": "code",
   "execution_count": 7,
   "metadata": {},
   "outputs": [],
   "source": [
    "-- We can use other models as parts\n",
    "helloWorld = andThen simplest elloWorld"
   ]
  },
  {
   "cell_type": "code",
   "execution_count": 8,
   "metadata": {},
   "outputs": [
    {
     "data": {
      "text/plain": [
       "\"Hello world!\"\n",
       "\"Hello world!\"\n",
       "\"Hello world!\"\n",
       "\"Hello world!\"\n",
       "\"Hello world!\"\n",
       "\"Hello world!\"\n",
       "\"Hello world!\"\n",
       "\"Hello world!\"\n",
       "\"Hello world!\"\n",
       "\"Hello world!\""
      ]
     },
     "execution_count": 8,
     "metadata": {},
     "output_type": "execute_result"
    }
   ],
   "source": [
    "printSamples 10 (compileSMoL helloWorld)"
   ]
  },
  {
   "cell_type": "markdown",
   "metadata": {},
   "source": [
    "Since `simplest`, `elloWorld` and `andThen` were deterministic, so is `helloWorld`.\n",
    "\n",
    "`eitherOr` is another way of composing distributions that is not deterministic. The first argument to `eitherOr` first argument (0.6 in this example) is the probability of sampling from the first distribution rather than the second."
   ]
  },
  {
   "cell_type": "code",
   "execution_count": 0,
   "metadata": {},
   "outputs": [],
   "source": [
    "-- Models can be probabilistic!\n",
    "helloGoodbye =\n",
    "    andThen \n",
    "        (eitherOr 0.6\n",
    "            (symbols \"Hello\")\n",
    "            (symbols \"Goodbye, cruel\"))\n",
    "        (symbols \" world!\")"
   ]
  },
  {
   "cell_type": "code",
   "execution_count": 10,
   "metadata": {},
   "outputs": [
    {
     "data": {
      "text/plain": [
       "\"Hello world!\"\n",
       "\"Goodbye, cruel world!\"\n",
       "\"Goodbye, cruel world!\"\n",
       "\"Goodbye, cruel world!\"\n",
       "\"Hello world!\"\n",
       "\"Hello world!\"\n",
       "\"Hello world!\"\n",
       "\"Goodbye, cruel world!\"\n",
       "\"Hello world!\"\n",
       "\"Hello world!\""
      ]
     },
     "execution_count": 10,
     "metadata": {},
     "output_type": "execute_result"
    }
   ],
   "source": [
    "printSamples 10 (compileSMoL helloGoodbye)"
   ]
  },
  {
   "cell_type": "markdown",
   "metadata": {},
   "source": [
    "`helloGoodbye` now represents the distribution that returns \"Hello world!\" with 60% probability and \"Goodbye, cruel world!\" with 40% probability."
   ]
  },
  {
   "cell_type": "markdown",
   "metadata": {},
   "source": [
    "# Brief introspection"
   ]
  },
  {
   "cell_type": "markdown",
   "metadata": {},
   "source": [
    "This section is safe to skip if you're not interested in the Haskell types of the SMoL expressions we're working with.\n",
    "\n",
    "An uncompiled model is of type `ProbSeq a`, where `a` is the type of the symbol in the sequences."
   ]
  },
  {
   "cell_type": "code",
   "execution_count": 12,
   "metadata": {},
   "outputs": [
    {
     "data": {
      "text/html": [
       "<style>/* Styles used for the Hoogle display in the pager */\n",
       ".hoogle-doc {\n",
       "display: block;\n",
       "padding-bottom: 1.3em;\n",
       "padding-left: 0.4em;\n",
       "}\n",
       ".hoogle-code {\n",
       "display: block;\n",
       "font-family: monospace;\n",
       "white-space: pre;\n",
       "}\n",
       ".hoogle-text {\n",
       "display: block;\n",
       "}\n",
       ".hoogle-name {\n",
       "color: green;\n",
       "font-weight: bold;\n",
       "}\n",
       ".hoogle-head {\n",
       "font-weight: bold;\n",
       "}\n",
       ".hoogle-sub {\n",
       "display: block;\n",
       "margin-left: 0.4em;\n",
       "}\n",
       ".hoogle-package {\n",
       "font-weight: bold;\n",
       "font-style: italic;\n",
       "}\n",
       ".hoogle-module {\n",
       "font-weight: bold;\n",
       "}\n",
       ".hoogle-class {\n",
       "font-weight: bold;\n",
       "}\n",
       ".get-type {\n",
       "color: green;\n",
       "font-weight: bold;\n",
       "font-family: monospace;\n",
       "display: block;\n",
       "white-space: pre-wrap;\n",
       "}\n",
       ".show-type {\n",
       "color: green;\n",
       "font-weight: bold;\n",
       "font-family: monospace;\n",
       "margin-left: 1em;\n",
       "}\n",
       ".mono {\n",
       "font-family: monospace;\n",
       "display: block;\n",
       "}\n",
       ".err-msg {\n",
       "color: red;\n",
       "font-style: italic;\n",
       "font-family: monospace;\n",
       "white-space: pre;\n",
       "display: block;\n",
       "}\n",
       "#unshowable {\n",
       "color: red;\n",
       "font-weight: bold;\n",
       "}\n",
       ".err-msg.in.collapse {\n",
       "padding-top: 0.7em;\n",
       "}\n",
       ".highlight-code {\n",
       "white-space: pre;\n",
       "font-family: monospace;\n",
       "}\n",
       ".suggestion-warning { \n",
       "font-weight: bold;\n",
       "color: rgb(200, 130, 0);\n",
       "}\n",
       ".suggestion-error { \n",
       "font-weight: bold;\n",
       "color: red;\n",
       "}\n",
       ".suggestion-name {\n",
       "font-weight: bold;\n",
       "}\n",
       "</style><span class='get-type'>simplest :: ProbSeq Char</span>"
      ]
     },
     "execution_count": 12,
     "metadata": {},
     "output_type": "execute_result"
    }
   ],
   "source": [
    "simplest :: ProbSeq Char"
   ]
  },
  {
   "cell_type": "markdown",
   "metadata": {},
   "source": [
    "`compileSMoL` is a function from uncompiled `ProbSeq` to the matrix representation of the distribution, `MatSeq`."
   ]
  },
  {
   "cell_type": "code",
   "execution_count": 13,
   "metadata": {},
   "outputs": [
    {
     "data": {
      "text/html": [
       "<style>/* Styles used for the Hoogle display in the pager */\n",
       ".hoogle-doc {\n",
       "display: block;\n",
       "padding-bottom: 1.3em;\n",
       "padding-left: 0.4em;\n",
       "}\n",
       ".hoogle-code {\n",
       "display: block;\n",
       "font-family: monospace;\n",
       "white-space: pre;\n",
       "}\n",
       ".hoogle-text {\n",
       "display: block;\n",
       "}\n",
       ".hoogle-name {\n",
       "color: green;\n",
       "font-weight: bold;\n",
       "}\n",
       ".hoogle-head {\n",
       "font-weight: bold;\n",
       "}\n",
       ".hoogle-sub {\n",
       "display: block;\n",
       "margin-left: 0.4em;\n",
       "}\n",
       ".hoogle-package {\n",
       "font-weight: bold;\n",
       "font-style: italic;\n",
       "}\n",
       ".hoogle-module {\n",
       "font-weight: bold;\n",
       "}\n",
       ".hoogle-class {\n",
       "font-weight: bold;\n",
       "}\n",
       ".get-type {\n",
       "color: green;\n",
       "font-weight: bold;\n",
       "font-family: monospace;\n",
       "display: block;\n",
       "white-space: pre-wrap;\n",
       "}\n",
       ".show-type {\n",
       "color: green;\n",
       "font-weight: bold;\n",
       "font-family: monospace;\n",
       "margin-left: 1em;\n",
       "}\n",
       ".mono {\n",
       "font-family: monospace;\n",
       "display: block;\n",
       "}\n",
       ".err-msg {\n",
       "color: red;\n",
       "font-style: italic;\n",
       "font-family: monospace;\n",
       "white-space: pre;\n",
       "display: block;\n",
       "}\n",
       "#unshowable {\n",
       "color: red;\n",
       "font-weight: bold;\n",
       "}\n",
       ".err-msg.in.collapse {\n",
       "padding-top: 0.7em;\n",
       "}\n",
       ".highlight-code {\n",
       "white-space: pre;\n",
       "font-family: monospace;\n",
       "}\n",
       ".suggestion-warning { \n",
       "font-weight: bold;\n",
       "color: rgb(200, 130, 0);\n",
       "}\n",
       ".suggestion-error { \n",
       "font-weight: bold;\n",
       "color: red;\n",
       "}\n",
       ".suggestion-name {\n",
       "font-weight: bold;\n",
       "}\n",
       "</style><span class='get-type'>compileSMoL :: forall s. Eq s => ProbSeq s -> MatSeq s</span>"
      ]
     },
     "execution_count": 13,
     "metadata": {},
     "output_type": "execute_result"
    }
   ],
   "source": [
    "compileSMoL :: forall s. Eq s => ProbSeq s -> MatSeq s"
   ]
  },
  {
   "cell_type": "markdown",
   "metadata": {},
   "source": [
    "A compiled model is of type `MatSeq a`, where `a` is the type of the symbol in the sequences."
   ]
  },
  {
   "cell_type": "code",
   "execution_count": 14,
   "metadata": {},
   "outputs": [],
   "source": [
    "simplestC = compileSMoL simplest"
   ]
  },
  {
   "cell_type": "code",
   "execution_count": 15,
   "metadata": {},
   "outputs": [
    {
     "data": {
      "text/html": [
       "<style>/* Styles used for the Hoogle display in the pager */\n",
       ".hoogle-doc {\n",
       "display: block;\n",
       "padding-bottom: 1.3em;\n",
       "padding-left: 0.4em;\n",
       "}\n",
       ".hoogle-code {\n",
       "display: block;\n",
       "font-family: monospace;\n",
       "white-space: pre;\n",
       "}\n",
       ".hoogle-text {\n",
       "display: block;\n",
       "}\n",
       ".hoogle-name {\n",
       "color: green;\n",
       "font-weight: bold;\n",
       "}\n",
       ".hoogle-head {\n",
       "font-weight: bold;\n",
       "}\n",
       ".hoogle-sub {\n",
       "display: block;\n",
       "margin-left: 0.4em;\n",
       "}\n",
       ".hoogle-package {\n",
       "font-weight: bold;\n",
       "font-style: italic;\n",
       "}\n",
       ".hoogle-module {\n",
       "font-weight: bold;\n",
       "}\n",
       ".hoogle-class {\n",
       "font-weight: bold;\n",
       "}\n",
       ".get-type {\n",
       "color: green;\n",
       "font-weight: bold;\n",
       "font-family: monospace;\n",
       "display: block;\n",
       "white-space: pre-wrap;\n",
       "}\n",
       ".show-type {\n",
       "color: green;\n",
       "font-weight: bold;\n",
       "font-family: monospace;\n",
       "margin-left: 1em;\n",
       "}\n",
       ".mono {\n",
       "font-family: monospace;\n",
       "display: block;\n",
       "}\n",
       ".err-msg {\n",
       "color: red;\n",
       "font-style: italic;\n",
       "font-family: monospace;\n",
       "white-space: pre;\n",
       "display: block;\n",
       "}\n",
       "#unshowable {\n",
       "color: red;\n",
       "font-weight: bold;\n",
       "}\n",
       ".err-msg.in.collapse {\n",
       "padding-top: 0.7em;\n",
       "}\n",
       ".highlight-code {\n",
       "white-space: pre;\n",
       "font-family: monospace;\n",
       "}\n",
       ".suggestion-warning { \n",
       "font-weight: bold;\n",
       "color: rgb(200, 130, 0);\n",
       "}\n",
       ".suggestion-error { \n",
       "font-weight: bold;\n",
       "color: red;\n",
       "}\n",
       ".suggestion-name {\n",
       "font-weight: bold;\n",
       "}\n",
       "</style><span class='get-type'>simplestC :: MatSeq Char</span>"
      ]
     },
     "execution_count": 15,
     "metadata": {},
     "output_type": "execute_result"
    }
   ],
   "source": [
    "simplestC :: MatSeq Char"
   ]
  },
  {
   "cell_type": "markdown",
   "metadata": {},
   "source": [
    "If we print the value of an uncompiled value like `simplest` from earlier, we get a SMoL AST expression."
   ]
  },
  {
   "cell_type": "code",
   "execution_count": 17,
   "metadata": {},
   "outputs": [
    {
     "data": {
      "text/plain": [
       "symbol ('H')"
      ]
     },
     "execution_count": 17,
     "metadata": {},
     "output_type": "execute_result"
    }
   ],
   "source": [
    "simplest"
   ]
  },
  {
   "cell_type": "markdown",
   "metadata": {},
   "source": [
    "If we print a compiled value, we get the actual matrix form of the distribution as well as some bookkeeping."
   ]
  },
  {
   "cell_type": "code",
   "execution_count": 18,
   "metadata": {},
   "outputs": [
    {
     "data": {
      "text/plain": [
       "MatSeq {trans = SM SparseMatrix 2x2\n",
       "1.0\t0.0\n",
       "0.0\t1.0\n",
       ", stateLabels = [StateLabel {stateLabel = 'H', stateTag = StateTag 0 [], tagSet = fromList []}]}"
      ]
     },
     "execution_count": 18,
     "metadata": {},
     "output_type": "execute_result"
    }
   ],
   "source": [
    "simplestC"
   ]
  },
  {
   "cell_type": "markdown",
   "metadata": {},
   "source": [
    "# More tools"
   ]
  },
  {
   "cell_type": "markdown",
   "metadata": {},
   "source": [
    "This section is a non-exhaustive list of functions that I've built into SMoL for manipulating and composing sequence distributions."
   ]
  },
  {
   "cell_type": "markdown",
   "metadata": {},
   "source": [
    "## `finiteDistRepeat`\n",
    "\n",
    "Repeat an sequence distribution a random number of times according to a given distribution."
   ]
  },
  {
   "cell_type": "code",
   "execution_count": 19,
   "metadata": {},
   "outputs": [
    {
     "data": {
      "text/plain": [
       "\"la, la, \"\n",
       "\"la, la! \"\n",
       "\"la, la! \"\n",
       "\"la! la! la, la, \"\n",
       "\"la, \"\n",
       "\"la, la! \"\n",
       "\"la, la! la, la! la! \"\n",
       "\"la, la, \"\n",
       "\"la, la, \"\n",
       "\"la, la, \""
      ]
     },
     "execution_count": 19,
     "metadata": {},
     "output_type": "execute_result"
    }
   ],
   "source": [
    "repeatModel = finiteDistRepeat [0, 0.1, 0.4, 0, 0.3, 0.2] (andThen (symbols \"la\") (eitherOr 0.5 (symbols \", \") (symbols \"! \")))\n",
    "\n",
    "printSamples 10 (compileSMoL repeatModel)"
   ]
  },
  {
   "cell_type": "markdown",
   "metadata": {},
   "source": [
    "## `finiteDistOver`\n",
    "\n",
    "Choose a sequence distribution at random according to a given distribution. Generalizes `eitherOr`"
   ]
  },
  {
   "cell_type": "code",
   "execution_count": 20,
   "metadata": {},
   "outputs": [
    {
     "data": {
      "text/plain": [
       "\"Today, I like apples.\"\n",
       "\"Today, I like bananas.\"\n",
       "\"Today, I like apples.\"\n",
       "\"Today, I like apples.\"\n",
       "\"Today, I like bananas.\"\n",
       "\"Today, I like apples.\"\n",
       "\"Today, I like bananas.\"\n",
       "\"Today, I like apples.\"\n",
       "\"Today, I like apples.\"\n",
       "\"Today, I like apples.\""
      ]
     },
     "execution_count": 20,
     "metadata": {},
     "output_type": "execute_result"
    }
   ],
   "source": [
    "branchModel = andThen (symbols \"Today, I like \") $\n",
    "    finiteDistOver [\n",
    "        (symbols \"bananas.\", 0.4)\n",
    "      , (symbols \"apples.\", 0.4)\n",
    "      , (symbols \"grapes.\", 0.2)\n",
    "    ]\n",
    "printSamples 10 (compileSMoL branchModel)"
   ]
  },
  {
   "cell_type": "markdown",
   "metadata": {},
   "source": [
    "## `skip`\n",
    "\n",
    "`skip n` is a special symbol that, when emitted, skips the next `n` symbols. `skip 0` doesn't do anything.\n",
    "\n",
    "`possibly`, also shown below, emits nothing with the given probability."
   ]
  },
  {
   "cell_type": "code",
   "execution_count": 21,
   "metadata": {},
   "outputs": [
    {
     "data": {
      "text/plain": [
       "\"do i eat fruit\"\n",
       "\"i eat fruit\"\n",
       "\"do i eat fruit\"\n",
       "\"do i eat fruit\"\n",
       "\"i eat fruit\"\n",
       "\"i eat fruit\"\n",
       "\"do i eat fruit\"\n",
       "\"i eat fruit\"\n",
       "\"do i eat fruit\"\n",
       "\"do i eat fruit\""
      ]
     },
     "execution_count": 21,
     "metadata": {},
     "output_type": "execute_result"
    }
   ],
   "source": [
    "skipModel = andThen (possibly 0.5 (skip 3)) (symbols \"do i eat fruit\")\n",
    "printSamples 10 (compileSMoL skipModel)"
   ]
  },
  {
   "cell_type": "markdown",
   "metadata": {},
   "source": [
    "## `skipDist`\n",
    "\n",
    "Insert a `skip n`, where `n` is drawn from a given distribution, before each symbol of the given sequence distribution."
   ]
  },
  {
   "cell_type": "code",
   "execution_count": 22,
   "metadata": {},
   "outputs": [
    {
     "data": {
      "text/plain": [
       "\"di eatfui\"\n",
       "\"doieatt fruit\"\n",
       "\"doo  t ruutt\"\n",
       "\"dd ii e uitt\"\n",
       "\"oo i aatfrri\"\n",
       "\"doi  t uiit\"\n",
       "\"o eaa ffrrrit\"\n",
       "\"o   ea fruitt\"\n",
       "\"d ieeaat  fritt\"\n",
       "\"o eat ffrruii\""
      ]
     },
     "execution_count": 22,
     "metadata": {},
     "output_type": "execute_result"
    }
   ],
   "source": [
    "skipDistModel = skipDist [0.2, 0.5, 0.2, 0.1] (symbols \"do i eat fruit\")\n",
    "printSamples 10 (compileSMoL skipDistModel)"
   ]
  },
  {
   "cell_type": "markdown",
   "metadata": {},
   "source": [
    "## `collapse`\n",
    "\n",
    "Transform each constituant sequence in a given distribution to the sequence of sliding windows (or De Bruijn graph nodes) of a given length."
   ]
  },
  {
   "cell_type": "code",
   "execution_count": 23,
   "metadata": {},
   "outputs": [
    {
     "data": {
      "text/plain": [
       "[\"do \",\"o i\",\" i \",\"i e\",\" ea\",\"eat\",\"at \",\"t f\",\" fr\",\"fru\",\"rui\",\"uit\"]\n",
       "[\"do \",\"o i\",\" i \",\"i e\",\" ea\",\"eat\",\"at \",\"t f\",\" fr\",\"fru\",\"rui\",\"uit\"]\n",
       "[\"do \",\"o i\",\" i \",\"i e\",\" ea\",\"eat\",\"at \",\"t f\",\" fr\",\"fru\",\"rui\",\"uit\"]\n",
       "[\"do \",\"o i\",\" i \",\"i e\",\" ea\",\"eat\",\"at \",\"t f\",\" fr\",\"fru\",\"rui\",\"uit\"]\n",
       "[\"do \",\"o i\",\" i \",\"i e\",\" ea\",\"eat\",\"at \",\"t f\",\" fr\",\"fru\",\"rui\",\"uit\"]\n",
       "[\"do \",\"o i\",\" i \",\"i e\",\" ea\",\"eat\",\"at \",\"t f\",\" fr\",\"fru\",\"rui\",\"uit\"]\n",
       "[\"do \",\"o i\",\" i \",\"i e\",\" ea\",\"eat\",\"at \",\"t f\",\" fr\",\"fru\",\"rui\",\"uit\"]\n",
       "[\"do \",\"o i\",\" i \",\"i e\",\" ea\",\"eat\",\"at \",\"t f\",\" fr\",\"fru\",\"rui\",\"uit\"]\n",
       "[\"do \",\"o i\",\" i \",\"i e\",\" ea\",\"eat\",\"at \",\"t f\",\" fr\",\"fru\",\"rui\",\"uit\"]\n",
       "[\"do \",\"o i\",\" i \",\"i e\",\" ea\",\"eat\",\"at \",\"t f\",\" fr\",\"fru\",\"rui\",\"uit\"]"
      ]
     },
     "execution_count": 23,
     "metadata": {},
     "output_type": "execute_result"
    }
   ],
   "source": [
    "-- Read: collapse 3 (symbols \"do i eat fruit\")\n",
    "collapseModel = collapse undefined (foldl1 (++)) 3 (symbols (map (:[]) \"do i eat fruit\"))\n",
    "printSamples 10 (compileSMoL collapseModel)"
   ]
  },
  {
   "cell_type": "markdown",
   "metadata": {},
   "source": [
    "# Example application: MinION Sequencer"
   ]
  },
  {
   "cell_type": "markdown",
   "metadata": {},
   "source": [
    "SMoL was originally motivated by the problem of genotyping DNA given the singal from the Oxford Nanopore Technologies MinION Sequencer. Using SMoL, I can write a very concise and expressive solution to this decoding problem.\n",
    "\n",
    "DNA is fed into the MinION machine, and a signal is read out. The goal is to be able to use prior information about the input DNA, represented by a SMoL expression, and transform it to a signal-level model, another SMoL expression. To accomplish this, we encode the domain-specific knowledge about how the MinION works - we can encapsulate this knowledge here, and future users can use it.\n",
    "\n",
    "The MinION signal transformation takes a sliding window over the DNA sequence, with random skips. In SMoL, this is equivalent to a `skipDist` and a `collapse`."
   ]
  },
  {
   "cell_type": "code",
   "execution_count": 24,
   "metadata": {},
   "outputs": [],
   "source": [
    "type NT = Char\n",
    "\n",
    "k = 4\n",
    "\n",
    "ntSymbols :: [NT] -> ProbSeq [NT]\n",
    "ntSymbols = symbols . map (:[])\n",
    "\n",
    "-- Here is the function we want: map from DNA level models to signal level models.\n",
    "minion :: ProbSeq [NT] -> ProbSeq [NT]\n",
    "minion = skipDist [0.4, 0.3, 0.2, 0.1]\n",
    "       . collapse undefined (foldl1 (++)) k\n"
   ]
  },
  {
   "cell_type": "markdown",
   "metadata": {},
   "source": [
    "Below is an example of how the MinION transfors a DNA sequence. In this case, we know the DNA sequence for sure, and we take 10 samples."
   ]
  },
  {
   "cell_type": "code",
   "execution_count": 25,
   "metadata": {},
   "outputs": [
    {
     "data": {
      "text/plain": [
       "[\"CGTA\",\"ACAC\",\"CACG\",\"CACG\",\"ACGT\",\"CGTA\",\"ATGA\",\"ATGA\",\"ATGA\",\"ATGA\",\"ATGA\",\"TGAC\"]\n",
       "[\"ACGT\",\"ACGT\",\"ACGT\",\"GTAC\",\"GTAC\",\"GTAC\",\"GTAC\",\"TACA\",\"ACAC\",\"ACAC\",\"ACAC\",\"ACGT\",\"ACGT\",\"ACGT\",\"GTAT\",\"TATG\",\"TGAC\",\"TGAC\",\"TGAC\",\"TGAC\"]\n",
       "[\"CGTA\",\"CGTA\",\"ACAC\",\"ACAC\",\"ACAC\",\"ACAC\",\"ACGT\",\"CGTA\",\"CGTA\",\"CGTA\",\"GTAT\",\"TATG\",\"TGAC\",\"TGAC\",\"TGAC\",\"TGAC\"]\n",
       "[\"ACGT\",\"ACGT\",\"CGTA\",\"CGTA\",\"GTAC\",\"GTAC\",\"TACA\",\"ACAC\",\"ACGT\",\"ACGT\",\"GTAT\",\"TATG\",\"ATGA\",\"TGAC\"]\n",
       "[\"GTAC\",\"TACA\",\"CACG\",\"CGTA\",\"CGTA\",\"CGTA\",\"ATGA\",\"ATGA\",\"ATGA\"]\n",
       "[\"ACGT\",\"ACGT\",\"GTAC\",\"GTAC\",\"ACAC\",\"ACGT\",\"CGTA\",\"CGTA\",\"ATGA\"]\n",
       "[\"GTAC\",\"ACAC\",\"CACG\",\"ACGT\",\"ACGT\",\"CGTA\",\"GTAT\",\"GTAT\",\"GTAT\",\"TATG\",\"ATGA\"]\n",
       "[\"CGTA\",\"TACA\",\"ACAC\",\"ACAC\",\"ACAC\",\"ACGT\",\"ACGT\",\"ACGT\",\"CGTA\",\"GTAT\",\"GTAT\",\"GTAT\",\"ATGA\",\"ATGA\",\"TGAC\",\"TGAC\"]\n",
       "[\"ACGT\",\"GTAC\",\"ACAC\",\"ACAC\",\"ACAC\",\"CACG\",\"CACG\",\"ACGT\",\"GTAT\",\"TATG\",\"TATG\",\"ATGA\",\"TGAC\"]\n",
       "[\"GTAC\",\"GTAC\",\"TACA\",\"TACA\",\"TACA\",\"TACA\",\"TACA\",\"TACA\",\"ACAC\",\"CACG\",\"CACG\",\"ACGT\",\"ACGT\",\"GTAT\",\"TATG\",\"ATGA\",\"ATGA\",\"TGAC\"]"
      ]
     },
     "execution_count": 25,
     "metadata": {},
     "output_type": "execute_result"
    }
   ],
   "source": [
    "printSamples 10 . compileSMoL $ minion (ntSymbols \"ACGTACACGTATGAC\")"
   ]
  },
  {
   "cell_type": "markdown",
   "metadata": {},
   "source": [
    "You can get the idea from the samples - MinION events are 4-wide sliding windows over the input sequence, with random skips and random stalls. The MinION machine's signal is translated into a distribution over these 4-tuples at each time point, which is the matrix passed to SMoL."
   ]
  },
  {
   "cell_type": "markdown",
   "metadata": {},
   "source": [
    "# Inference: Decoding"
   ]
  },
  {
   "cell_type": "code",
   "execution_count": 0,
   "metadata": {},
   "outputs": [],
   "source": [
    "So far, we've defined sequence distributions and sampled from them. We can also do two kinds of inference on sequence data. Let's start with decoding.\n",
    "\n",
    "We can take a SMoL expression defining our model and some data describing a sequence of distributions over symbols, and we can calculate high-level queries on the process that generated the data.\n",
    "\n",
    "Below, I define a SMoL model and keep references to 'decision' points in the generative process."
   ]
  },
  {
   "cell_type": "code",
   "execution_count": 28,
   "metadata": {},
   "outputs": [
    {
     "data": {
      "text/plain": [
       "\"ad\"\n",
       "\"ad\"\n",
       "\"cd\"\n",
       "\"ad\"\n",
       "\"ad\"\n",
       "\"ad\"\n",
       "\"ad\"\n",
       "\"cd\"\n",
       "\"aaad\"\n",
       "\"ad\""
      ]
     },
     "execution_count": 28,
     "metadata": {},
     "output_type": "execute_result"
    }
   ],
   "source": [
    "model :: ProbSeq Char\n",
    "vars :: (Tag Int, Tag Bool)\n",
    "(model, vars) = runTagGen $ \n",
    "  -- The random variable \"a\" represents the number of times the symbol is repeated\n",
    "  (ps1, a) <- finiteDistRepeatM [0.8,0.1,0.1] (symbol 'a')\n",
    "  \n",
    "  -- The random variable \"b\" represents the branch taken\n",
    "  (ps2, b) <- eitherOrM 0.5 ps1 (symbol 'c')\n",
    "  \n",
    "  let ps = andThen ps2 (symbol 'd')\n",
    "  return (ps, (a, b))\n",
    "\n",
    "-- Sample from the model, just as before\n",
    "printSamples 10 (compileSMoL model)"
   ]
  },
  {
   "cell_type": "markdown",
   "metadata": {},
   "source": [
    "As an example, let's generate some sample data from the model.\n",
    "\n",
    "The matrix that's printed has a row for each point in the sequence, and a column for each symbol."
   ]
  },
  {
   "cell_type": "code",
   "execution_count": 31,
   "metadata": {},
   "outputs": [
    {
     "data": {
      "text/plain": [
       "\"cd\""
      ]
     },
     "execution_count": 31,
     "metadata": {},
     "output_type": "execute_result"
    },
    {
     "data": {
      "text/plain": [
       "[0.125,0.125,0.5,0.125]\n",
       "[0.125,0.125,0.125,0.5]"
      ]
     },
     "execution_count": 31,
     "metadata": {},
     "output_type": "execute_result"
    }
   ],
   "source": [
    "s <- sample (compileSMoL model)\n",
    "observations = simulateEmissionsUniform \"abcd\" 0.5 s\n",
    "\n",
    "print s\n",
    "mapM_ print . emissions $ observations"
   ]
  },
  {
   "cell_type": "markdown",
   "metadata": {},
   "source": [
    "We can directly take the posterior over the symbols given our model and the data. There are more columns now, because instead of distributions over symbols, we now have distributions over generating states from our model."
   ]
  },
  {
   "cell_type": "code",
   "execution_count": 32,
   "metadata": {},
   "outputs": [
    {
     "data": {
      "text/plain": [
       "[0.16666666666666666,0.0,0.0,0.0,0.0,0.8333333333333333,0.0]\n",
       "[0.0,0.0,0.0,0.0,0.0,0.0,1.0]"
      ]
     },
     "execution_count": 32,
     "metadata": {},
     "output_type": "execute_result"
    }
   ],
   "source": [
    "posterior = fullPosteriorSHMM observations (compileSMoL model)\n",
    "\n",
    "mapM_ print posterior"
   ]
  },
  {
   "cell_type": "markdown",
   "metadata": {},
   "source": [
    "The posterior matrix above isn't very user friendly, we would ask queries in the language of our generating model.\n",
    "\n",
    "To this end, there is a second DSL for defining queries. Below, I define a SMoL query that uses the random variables `a` and `b`. I can query the probability of events of one or more variable, as well as conditional probabilities."
   ]
  },
  {
   "cell_type": "code",
   "execution_count": 33,
   "metadata": {},
   "outputs": [],
   "source": [
    "query (a, b) = do\n",
    "  aDist <- tagDist a\n",
    "  \n",
    "  -- p(a = 1 | b is first branch)\n",
    "  anb <- condition1 b id $ event1 a (== 1)\n",
    "  \n",
    "  -- p(b is first branch)\n",
    "  yb <- event1 b (== True)\n",
    "  -- p(a > 1)\n",
    "  ya <- event1 a (> 1)\n",
    "  \n",
    "  -- Return p(b is first branch)\n",
    "  return yb"
   ]
  },
  {
   "cell_type": "code",
   "execution_count": 34,
   "metadata": {},
   "outputs": [
    {
     "data": {
      "text/html": [
       "<style>/* Styles used for the Hoogle display in the pager */\n",
       ".hoogle-doc {\n",
       "display: block;\n",
       "padding-bottom: 1.3em;\n",
       "padding-left: 0.4em;\n",
       "}\n",
       ".hoogle-code {\n",
       "display: block;\n",
       "font-family: monospace;\n",
       "white-space: pre;\n",
       "}\n",
       ".hoogle-text {\n",
       "display: block;\n",
       "}\n",
       ".hoogle-name {\n",
       "color: green;\n",
       "font-weight: bold;\n",
       "}\n",
       ".hoogle-head {\n",
       "font-weight: bold;\n",
       "}\n",
       ".hoogle-sub {\n",
       "display: block;\n",
       "margin-left: 0.4em;\n",
       "}\n",
       ".hoogle-package {\n",
       "font-weight: bold;\n",
       "font-style: italic;\n",
       "}\n",
       ".hoogle-module {\n",
       "font-weight: bold;\n",
       "}\n",
       ".hoogle-class {\n",
       "font-weight: bold;\n",
       "}\n",
       ".get-type {\n",
       "color: green;\n",
       "font-weight: bold;\n",
       "font-family: monospace;\n",
       "display: block;\n",
       "white-space: pre-wrap;\n",
       "}\n",
       ".show-type {\n",
       "color: green;\n",
       "font-weight: bold;\n",
       "font-family: monospace;\n",
       "margin-left: 1em;\n",
       "}\n",
       ".mono {\n",
       "font-family: monospace;\n",
       "display: block;\n",
       "}\n",
       ".err-msg {\n",
       "color: red;\n",
       "font-style: italic;\n",
       "font-family: monospace;\n",
       "white-space: pre;\n",
       "display: block;\n",
       "}\n",
       "#unshowable {\n",
       "color: red;\n",
       "font-weight: bold;\n",
       "}\n",
       ".err-msg.in.collapse {\n",
       "padding-top: 0.7em;\n",
       "}\n",
       ".highlight-code {\n",
       "white-space: pre;\n",
       "font-family: monospace;\n",
       "}\n",
       ".suggestion-warning { \n",
       "font-weight: bold;\n",
       "color: rgb(200, 130, 0);\n",
       "}\n",
       ".suggestion-error { \n",
       "font-weight: bold;\n",
       "color: red;\n",
       "}\n",
       ".suggestion-name {\n",
       "font-weight: bold;\n",
       "}\n",
       "</style><span class='get-type'>runQuery :: forall d a b. (Show d, Ord d) => (ProbSeq d, a) -> (a -> Query b) -> Emissions d -> b</span>"
      ]
     },
     "execution_count": 34,
     "metadata": {},
     "output_type": "execute_result"
    }
   ],
   "source": [
    "-- The SMoL function runQuery takes a model with variables, a query, some data, and returns the results of the query.\n",
    "runQuery :: (ProbSeq d, a) -> (a -> Query b) -> Emissions d -> b"
   ]
  },
  {
   "cell_type": "code",
   "execution_count": 0,
   "metadata": {},
   "outputs": [],
   "source": [
    "runQuery (model, vars) query observations\n",
    "\n",
    "0.01"
   ]
  },
  {
   "cell_type": "markdown",
   "metadata": {},
   "source": [
    "# Inference: Branch index posteriors"
   ]
  },
  {
   "cell_type": "markdown",
   "metadata": {},
   "source": [
    "SMoL can also do posterior inference over the branch indices in a sequence distribution. In this section, I use a MinION inference problem as an example. I will define a true model and a prior model, and show that the prior model learns the true model from data. This example performs Short Tandem Repeat (STR) allele inference."
   ]
  },
  {
   "cell_type": "code",
   "execution_count": 38,
   "metadata": {},
   "outputs": [],
   "source": [
    "strSegment = ntSymbols \"ACT\"\n",
    "\n",
    "-- This function constructs a SMoL MinION model given a sub-model to define the center region.\n",
    "strProblem strModel = minion $ series [\n",
    "      ntSymbols \"ACGTACACGTATGAC\"\n",
    "    , strModel\n",
    "    , ntSymbols \"TACCAGTTGACAGAT\"\n",
    "    ]"
   ]
  },
  {
   "cell_type": "code",
   "execution_count": 39,
   "metadata": {},
   "outputs": [],
   "source": [
    "-- The true model repeats the \"ACT\" sequence exactly 3 times.\n",
    "strTruth = strProblem (repeatSequence 3 strSegment)\n",
    "strTruthC = compileSMoL strTruth"
   ]
  },
  {
   "cell_type": "code",
   "execution_count": 40,
   "metadata": {},
   "outputs": [],
   "source": [
    "-- This function constructs a model given a prior distribution over the number of \"ACT\" repeats.\n",
    "-- The parameter is what we're going to infer.\n",
    "strModel :: [Prob] -> (ProbSeq [NT], Tag Int)\n",
    "strModel prior = runTagGen $ do\n",
    "    (ps, repeatVar) <- finiteDistRepeatM prior strSegment\n",
    "    return (strProblem ps, repeatVar)\n",
    "\n",
    "-- Define a query that just returns the infered parameter to the model.\n",
    "strQuery :: Tag Int -> Query [Prob]\n",
    "strQuery repeatVar = do\n",
    "    posteriorDist <- tagDist repeatVar\n",
    "    let (Just distList) = sequence (map (flip Map.lookup posteriorDist) [1..4])\n",
    "    return distList"
   ]
  },
  {
   "cell_type": "code",
   "execution_count": 41,
   "metadata": {},
   "outputs": [],
   "source": [
    "-- This expression randomly generates a sample from the true distribution.\n",
    "simulateSTR :: IO (Emissions [NT])\n",
    "simulateSTR = do\n",
    "    s <- sample strTruthC\n",
    "    return (simulateEmissionsUniform (minionSymbols k) 0.5 s)"
   ]
  },
  {
   "cell_type": "code",
   "execution_count": 42,
   "metadata": {},
   "outputs": [
    {
     "data": {
      "text/html": [
       "<style>/* Styles used for the Hoogle display in the pager */\n",
       ".hoogle-doc {\n",
       "display: block;\n",
       "padding-bottom: 1.3em;\n",
       "padding-left: 0.4em;\n",
       "}\n",
       ".hoogle-code {\n",
       "display: block;\n",
       "font-family: monospace;\n",
       "white-space: pre;\n",
       "}\n",
       ".hoogle-text {\n",
       "display: block;\n",
       "}\n",
       ".hoogle-name {\n",
       "color: green;\n",
       "font-weight: bold;\n",
       "}\n",
       ".hoogle-head {\n",
       "font-weight: bold;\n",
       "}\n",
       ".hoogle-sub {\n",
       "display: block;\n",
       "margin-left: 0.4em;\n",
       "}\n",
       ".hoogle-package {\n",
       "font-weight: bold;\n",
       "font-style: italic;\n",
       "}\n",
       ".hoogle-module {\n",
       "font-weight: bold;\n",
       "}\n",
       ".hoogle-class {\n",
       "font-weight: bold;\n",
       "}\n",
       ".get-type {\n",
       "color: green;\n",
       "font-weight: bold;\n",
       "font-family: monospace;\n",
       "display: block;\n",
       "white-space: pre-wrap;\n",
       "}\n",
       ".show-type {\n",
       "color: green;\n",
       "font-weight: bold;\n",
       "font-family: monospace;\n",
       "margin-left: 1em;\n",
       "}\n",
       ".mono {\n",
       "font-family: monospace;\n",
       "display: block;\n",
       "}\n",
       ".err-msg {\n",
       "color: red;\n",
       "font-style: italic;\n",
       "font-family: monospace;\n",
       "white-space: pre;\n",
       "display: block;\n",
       "}\n",
       "#unshowable {\n",
       "color: red;\n",
       "font-weight: bold;\n",
       "}\n",
       ".err-msg.in.collapse {\n",
       "padding-top: 0.7em;\n",
       "}\n",
       ".highlight-code {\n",
       "white-space: pre;\n",
       "font-family: monospace;\n",
       "}\n",
       ".suggestion-warning { \n",
       "font-weight: bold;\n",
       "color: rgb(200, 130, 0);\n",
       "}\n",
       ".suggestion-error { \n",
       "font-weight: bold;\n",
       "color: red;\n",
       "}\n",
       ".suggestion-name {\n",
       "font-weight: bold;\n",
       "}\n",
       "</style><span class='get-type'>sim1 :: Emissions [NT]</span>"
      ]
     },
     "execution_count": 42,
     "metadata": {},
     "output_type": "execute_result"
    }
   ],
   "source": [
    "sim1 <- simulateSTR"
   ]
  },
  {
   "cell_type": "code",
   "execution_count": 44,
   "metadata": {},
   "outputs": [
    {
     "data": {
      "text/html": [
       "<style>/* Styles used for the Hoogle display in the pager */\n",
       ".hoogle-doc {\n",
       "display: block;\n",
       "padding-bottom: 1.3em;\n",
       "padding-left: 0.4em;\n",
       "}\n",
       ".hoogle-code {\n",
       "display: block;\n",
       "font-family: monospace;\n",
       "white-space: pre;\n",
       "}\n",
       ".hoogle-text {\n",
       "display: block;\n",
       "}\n",
       ".hoogle-name {\n",
       "color: green;\n",
       "font-weight: bold;\n",
       "}\n",
       ".hoogle-head {\n",
       "font-weight: bold;\n",
       "}\n",
       ".hoogle-sub {\n",
       "display: block;\n",
       "margin-left: 0.4em;\n",
       "}\n",
       ".hoogle-package {\n",
       "font-weight: bold;\n",
       "font-style: italic;\n",
       "}\n",
       ".hoogle-module {\n",
       "font-weight: bold;\n",
       "}\n",
       ".hoogle-class {\n",
       "font-weight: bold;\n",
       "}\n",
       ".get-type {\n",
       "color: green;\n",
       "font-weight: bold;\n",
       "font-family: monospace;\n",
       "display: block;\n",
       "white-space: pre-wrap;\n",
       "}\n",
       ".show-type {\n",
       "color: green;\n",
       "font-weight: bold;\n",
       "font-family: monospace;\n",
       "margin-left: 1em;\n",
       "}\n",
       ".mono {\n",
       "font-family: monospace;\n",
       "display: block;\n",
       "}\n",
       ".err-msg {\n",
       "color: red;\n",
       "font-style: italic;\n",
       "font-family: monospace;\n",
       "white-space: pre;\n",
       "display: block;\n",
       "}\n",
       "#unshowable {\n",
       "color: red;\n",
       "font-weight: bold;\n",
       "}\n",
       ".err-msg.in.collapse {\n",
       "padding-top: 0.7em;\n",
       "}\n",
       ".highlight-code {\n",
       "white-space: pre;\n",
       "font-family: monospace;\n",
       "}\n",
       ".suggestion-warning { \n",
       "font-weight: bold;\n",
       "color: rgb(200, 130, 0);\n",
       "}\n",
       ".suggestion-error { \n",
       "font-weight: bold;\n",
       "color: red;\n",
       "}\n",
       ".suggestion-name {\n",
       "font-weight: bold;\n",
       "}\n",
       "</style><span class='get-type'>updates :: forall b a c. (Show b, Ord b) => (a -> (ProbSeq b, c)) -> (c -> Query a) -> a -> [Emissions b] -> a</span>"
      ]
     },
     "execution_count": 44,
     "metadata": {},
     "output_type": "execute_result"
    }
   ],
   "source": [
    "-- This SMoL function takes as input:\n",
    "--    1. A function from the parameter to a model with random variables\n",
    "--    2. A function from random variables to a SMoL query\n",
    "--    3. A first, prior setting for the parameter\n",
    "--    4. A set of sequence data matricies to learn from\n",
    "-- And returns as output the final parameter.\n",
    "\n",
    "updates :: (a -> (ProbSeq b, c)) -> (c -> Query a) -> a -> [Emissions b] -> a"
   ]
  },
  {
   "cell_type": "code",
   "execution_count": 45,
   "metadata": {},
   "outputs": [
    {
     "data": {
      "text/plain": [
       "[1.800368398168107e-11,2.2899140151477957e-2,0.8986217921194574,7.847906771106108e-2]"
      ]
     },
     "execution_count": 45,
     "metadata": {},
     "output_type": "execute_result"
    }
   ],
   "source": [
    "-- Get 5 simulated data matricies\n",
    "simulations <- replicateM 5 simulateSTR\n",
    "\n",
    "-- Run inference\n",
    "updates strModel strQuery [0.25, 0.25, 0.25, 0.25] simulations"
   ]
  },
  {
   "cell_type": "markdown",
   "metadata": {},
   "source": [
    "Our model, given five noisy examples, assigned 90% posterior probability to the true model, 3 repeats of \"ACT\"."
   ]
  },
  {
   "cell_type": "markdown",
   "metadata": {},
   "source": [
    "# Inference: MAP Estimates of Dirchlet-Categorical Branch Distributions"
   ]
  },
  {
   "cell_type": "markdown",
   "metadata": {},
   "source": [
    "SMoL can also do posterior inference over the parameters to a sequence distribution. In this section, I use a MinION inference problem as an example. I will define a true model and a prior model, and show that the prior model learns the true model from data. This example performs Short Tandem Repeat (STR) allele inference."
   ]
  },
  {
   "cell_type": "code",
   "execution_count": 46,
   "metadata": {},
   "outputs": [],
   "source": [
    "--additional imports for this section\n",
    "import SMoL.DirichletInference\n",
    "import SMoL.EmissionsInference hiding (simulateEmissionsUniform)\n",
    "import qualified Data.Map as Map\n",
    "import Data.Map (Map)\n",
    "import Data.List (intercalate)"
   ]
  },
  {
   "cell_type": "code",
   "execution_count": 47,
   "metadata": {},
   "outputs": [],
   "source": [
    "-- Boring helper functions to help with gradient descent convergence and displaying\n",
    "epsilon = 0.000001\n",
    "listConverged xs1 xs2 = (< epsilon) . maximum $ zipWith (\\x1 x2 -> abs (x1 - x2)) xs1 xs2\n",
    "mapConverged xs1 xs2 = (< epsilon) . maximum $ Map.intersectionWith (\\x1 x2 -> abs (x1 - x2)) xs1 xs2\n",
    "\n",
    "showMap :: (Show a, Show b) => Map a b -> String\n",
    "showMap = intercalate \"\\t\" . map (\\(k, v) -> show k ++ \":\" ++ show v) . Map.toList\n",
    "\n",
    "showIters :: (a -> String) -> (a -> a -> Bool) -> IO [a] -> IO ()\n",
    "showIters showF converged = showIters' . (map showF <$>) . (takeUntilPair converged <$>)\n",
    "  where showIters' :: IO [String] -> IO ()\n",
    "        showIters' its = its >>= \\iters -> forM_ (zip iters [0..]) $ \\(iter, n) ->\n",
    "          putStrLn $ \"Iteration \" ++ show n ++ \":\\t\" ++ iter"
   ]
  },
  {
   "cell_type": "markdown",
   "metadata": {},
   "source": [
    "## Example 1"
   ]
  },
  {
   "cell_type": "code",
   "execution_count": 48,
   "metadata": {},
   "outputs": [
    {
     "data": {
      "text/plain": [
       "Iteration 0:\t[0.2,0.5,0.3]\n",
       "Iteration 1:\t[0.3636569679663687,4.42067450604088e-2,0.5921362869732224]\n",
       "Iteration 2:\t[0.236458779788833,0.35395430096854225,0.4095869192426248]\n",
       "Iteration 3:\t[0.272784624628425,0.27114252385632637,0.4560728515152486]\n",
       "Iteration 4:\t[0.2869594766319614,0.22329185194457735,0.48974867142346123]\n",
       "Iteration 5:\t[0.2910090871463246,0.20124235018865855,0.5077485626650169]\n",
       "Iteration 6:\t[0.2905460806949576,0.19412540054251026,0.5153285187625322]\n",
       "Iteration 7:\t[0.28933004872775225,0.19234654439356433,0.5183234068786834]\n",
       "Iteration 8:\t[0.28848863167352495,0.19190263194084606,0.519608736385629]\n",
       "Iteration 9:\t[0.28802665173032577,0.19176931007046263,0.5202040381992116]\n",
       "Iteration 10:\t[0.28779077048512597,0.19171929380363098,0.5204899357112431]\n",
       "Iteration 11:\t[0.28767334859065663,0.19169746981165733,0.520629181597686]\n",
       "Iteration 12:\t[0.2876154287184997,0.19168722971924587,0.5206973415622543]\n",
       "Iteration 13:\t[0.2875584784018449,0.19167733758443964,0.5207641840137154]\n",
       "Iteration 14:\t[0.28755950648063605,0.19167757174997138,0.5207629217693925]\n"
      ]
     },
     "execution_count": 48,
     "metadata": {},
     "output_type": "execute_result"
    }
   ],
   "source": [
    "-- Sequence model to simulate symbol sequences: p(a)=0.3, p(b)=0.2, p(c)=0.5\n",
    "generatingSeq = finiteDistOver $ zip [symbol 'a', symbol 'b', symbol 'c'] [0.3, 0.2, 0.5]\n",
    "\n",
    "-- Prior sequence model, where [2, 5, 3] are dirichlet parameters for the prior of the branch categorical\n",
    "modelSeq = runTagGen $ finiteDistOverDirichletM [symbol 'a', symbol 'b', symbol 'c'] [2, 5, 3]\n",
    "\n",
    "-- Sample 1000 example symbol sequences, with noisy emissions distributions\n",
    "observations = replicateM 1000 (simulateEmissionsUniform \"abc\" 0.95 <$> sample (compileSMoL generatingSeq))\n",
    "\n",
    "-- Run the \"branchMAPs\" query, which runs an MAP optimization over the categorical branch distribution given data\n",
    "dirichletExample1Iters = runQueries modelSeq branchMAPs <$> observations\n",
    "\n",
    "-- Print the iteration until convergence\n",
    "dirichletExample1 = showIters show listConverged dirichletExample1Iters"
   ]
  },
  {
   "cell_type": "markdown",
   "metadata": {},
   "source": [
    "## Example 2"
   ]
  },
  {
   "cell_type": "code",
   "execution_count": 49,
   "metadata": {},
   "outputs": [
    {
     "data": {
      "text/plain": [
       "Iteration 1:\t[0.13837596670598415,0.2847074607600655,0.28438337223704707,0.29253320029690333]\n",
       "Iteration 2:\t[0.16563291897743118,0.2760272359235872,0.2744737253320037,0.28386611976697795]\n",
       "Iteration 3:\t[0.16400156101681632,0.2768096214710397,0.27435454450462166,0.28483427300752223]\n",
       "Iteration 4:\t[0.16385787331028565,0.2770147426724063,0.27390950520741253,0.28521787880989563]\n",
       "Iteration 5:\t[0.16384594063460103,0.27712502966218655,0.2735442836219793,0.2854847460812331]\n",
       "Iteration 6:\t[0.16384449588359212,0.27719918931818693,0.27326729778847253,0.2856890170097485]\n",
       "Iteration 7:\t[0.16384395573601382,0.2772515195682989,0.27305848029170465,0.2858460444039826]\n",
       "Iteration 8:\t[0.16384356716429024,0.2772891935805701,0.27290093584962377,0.28596630340551593]\n",
       "Iteration 9:\t[0.1638432614281866,0.27731668443579355,0.27278194967723834,0.2860581044587815]\n",
       "Iteration 10:\t[0.16384302149424995,0.2773369463629695,0.2726920127559536,0.28612801938682686]\n",
       "Iteration 11:\t[0.16384283482391282,0.2773519916971164,0.27262399392443704,0.28618117955453376]\n",
       "Iteration 12:\t[0.16384269059071976,0.2773632247258436,0.2725725305967297,0.2862215540867069]\n",
       "Iteration 13:\t[0.16384246883346712,0.27738006514823876,0.27249463309226535,0.28628283292602874]\n",
       "Iteration 14:\t[0.16384234948321982,0.2773885424772129,0.2724545984909195,0.2863145095486477]\n",
       "Iteration 15:\t[0.1638422902805463,0.27739289205718526,0.27243399405717683,0.2863308236050916]\n",
       "Iteration 16:\t[0.16384225733457622,0.2773951301168564,0.27242338927903353,0.2863392232695338]\n",
       "Iteration 17:\t[0.16384224230465727,0.2773962811520699,0.2724179299581027,0.28634354658517014]\n",
       "Iteration 18:\t[0.1638422328989646,0.27739687410673625,0.27241512037164994,0.2863457726226491]\n",
       "Iteration 19:\t[0.16384222945476526,0.2773971788404808,0.2724136736882893,0.2863469180164646]\n"
      ]
     },
     "execution_count": 49,
     "metadata": {},
     "output_type": "execute_result"
    }
   ],
   "source": [
    "-- Using functions from earlier, but with new truth and prior models\n",
    "\n",
    "-- Repeat the STR segment with the given probabilities (starting with p(0)=0)\n",
    "strTruth = strProblem (finiteDistRepeat [0.0, 0.15, 0.3, 0.3, 0.25] strSegment)\n",
    "strTruthC = compileSMoL strTruth\n",
    "\n",
    "-- Generate an STR model with a given Dirichlet prior, and return the random variable\n",
    "strModel :: [Double] -> (ProbSeq [NT], DirichletTag)\n",
    "strModel prior = runTagGen $ do\n",
    "    (ps, repeatVar) <- finiteDistRepeatDirichletM prior strSegment\n",
    "    return (strProblem ps, repeatVar)\n",
    "\n",
    "-- Randomly sample from the true model, with noisy emissions\n",
    "simulateSTR :: IO (Emissions Double [NT])\n",
    "simulateSTR = do\n",
    "    s <- sample strTruthC\n",
    "    return (simulateEmissionsUniform (minionSymbols k) 0.9 s)\n",
    "\n",
    "-- Learn the distribution of repeats with a weak prior\n",
    "dirichletExample2a = showIters show  listConverged $\n",
    "  runQueries (strModel [2, 2, 2, 2]) branchMAPs <$> replicateM 100 simulateSTR\n",
    "\n",
    "dirichletExample2a"
   ]
  },
  {
   "cell_type": "code",
   "execution_count": 50,
   "metadata": {},
   "outputs": [
    {
     "data": {
      "text/plain": [
       "Iteration 0:\t[0.15384615384615385,0.2980769230769231,0.2980769230769231,0.25]\n",
       "Iteration 1:\t[0.18421313508124104,0.28704945979622376,0.2871678044899782,0.2415696006325571]\n",
       "Iteration 2:\t[0.16172198391306225,0.2943017517575359,0.2943897114096955,0.2495865529197065]\n",
       "Iteration 3:\t[0.17689561328879155,0.28957440861676453,0.28936120615776817,0.24416877193667583]\n",
       "Iteration 4:\t[0.1657957245333616,0.2930883734110637,0.29303940117896304,0.24807650087661162]\n",
       "Iteration 5:\t[0.1735317742305609,0.29065758704435257,0.29048800938102,0.24532262934406662]\n",
       "Iteration 6:\t[0.1679312780500983,0.2924263867006909,0.29234433504886953,0.24729800020034126]\n",
       "Iteration 7:\t[0.17188557986163738,0.29118143866152196,0.29103873599495866,0.2458942454818821]\n",
       "Iteration 8:\t[0.16904063255984972,0.29207921786341484,0.29198079151870354,0.24689935805803193]\n",
       "Iteration 9:\t[0.1710612181348811,0.29144258770530956,0.29131310410379296,0.24618309005601635]\n",
       "Iteration 10:\t[0.16961248533893972,0.2918995723236985,0.29179254767152324,0.24669539466583867]\n",
       "Iteration 11:\t[0.17064435030496417,0.291574346257382,0.29145142822248393,0.2463298752151699]\n",
       "Iteration 12:\t[0.169905867615814,0.29180723974415534,0.2916957473273504,0.24659114531268025]\n",
       "Iteration 13:\t[0.17043259376134334,0.29164119610638556,0.291521581002484,0.2464046291297871]\n",
       "Iteration 14:\t[0.17005598630942478,0.291759952134083,0.2916461581215192,0.246537903434973]\n",
       "Iteration 15:\t[0.17032479296959174,0.2916752069728911,0.2915572650237939,0.2464427350337231]\n",
       "Iteration 16:\t[0.17013269141823997,0.2917357789368819,0.29162080479180447,0.24651072485307365]\n",
       "Iteration 17:\t[0.17026985448866858,0.29169253441944837,0.291575443018255,0.24646216807362797]\n",
       "Iteration 18:\t[0.1701718561563278,0.29172343354104935,0.2916078557592449,0.246496854543378]\n",
       "Iteration 19:\t[0.1702418409828125,0.2917013683657544,0.2915847101099911,0.24647208054144196]\n",
       "Iteration 20:\t[0.17019184565425322,0.29171713177131176,0.2916012456155006,0.2464897769589344]\n",
       "Iteration 21:\t[0.17022755277194757,0.29170587372084655,0.2915894362456632,0.24647713726154274]\n",
       "Iteration 22:\t[0.17020204622045124,0.291713915809931,0.29159787221883804,0.24648616575077964]\n",
       "Iteration 23:\t[0.17022026408983879,0.2917081718886513,0.29159184700030055,0.24647971702120935]\n",
       "Iteration 24:\t[0.17020725101463063,0.2917122748298455,0.29159615088902624,0.24648432326649766]\n",
       "Iteration 25:\t[0.1702165457326019,0.2917093442849034,0.29159307682354074,0.246481033158954]\n",
       "Iteration 26:\t[0.17020990660335641,0.29171143755643325,0.2915952726146331,0.24648338322557722]\n",
       "Iteration 27:\t[0.17021464872537137,0.2917099424037535,0.2915937042375821,0.24648170463329314]\n",
       "Iteration 28:\t[0.1702112615020585,0.29171101037069447,0.2915948245086338,0.24648290361861325]\n",
       "Iteration 29:\t[0.1702136809046789,0.29171024755205316,0.29159402433112824,0.24648204721213976]\n",
       "Iteration 30:\t[0.1702119527710849,0.29171079241974307,0.2915945958838335,0.2464826589253385]\n",
       "Iteration 31:\t[0.17021318713442593,0.29171040323452624,0.2915941876383113,0.24648222199273656]\n"
      ]
     },
     "execution_count": 50,
     "metadata": {},
     "output_type": "execute_result"
    }
   ],
   "source": [
    "-- Learn the distribution of repeats with a stronger prior\n",
    "dirichletExample2b = showIters show listConverged $\n",
    "  runQueries (strModel [16, 31, 31, 26]) branchMAPs <$> replicateM 100 simulateSTR\n",
    "  \n",
    "dirichletExample2b"
   ]
  },
  {
   "cell_type": "markdown",
   "metadata": {},
   "source": [
    "# Inference: MAP Estimates of Emission Distributions"
   ]
  },
  {
   "cell_type": "code",
   "execution_count": 51,
   "metadata": {},
   "outputs": [],
   "source": [
    "sampleEmissions generatingNorms generatingModel = do\n",
    "  seq <- fst <$> sampleSeq vecDist (compileSMoL generatingModel)\n",
    "  putStrLn $ \"Generating sequence: \" ++ show seq\n",
    "\n",
    "  ems <- evalState (sampleNormalSequence generatingNorms seq) <$> getStdGen\n",
    "  putStrLn $ \"Generated emissions: \" ++ show ems"
   ]
  },
  {
   "cell_type": "markdown",
   "metadata": {},
   "source": [
    "## Example 1"
   ]
  },
  {
   "cell_type": "code",
   "execution_count": 52,
   "metadata": {},
   "outputs": [
    {
     "data": {
      "text/plain": [
       "Generating sequence: \"abab\"\n",
       "Generated emissions: [-0.1984506676639053,1.7812933394857646,-1.53908923018402,1.8405630904808585]\n"
      ]
     },
     "execution_count": 52,
     "metadata": {},
     "output_type": "execute_result"
    }
   ],
   "source": [
    "sampleEmissions (Map.fromList [('a',(-1,1)),('b',(1,1))]) (symbols \"abab\")"
   ]
  },
  {
   "cell_type": "code",
   "execution_count": 53,
   "metadata": {},
   "outputs": [
    {
     "data": {
      "text/plain": [
       "Iteration 0:\t'a':-1.5632205493494604\t'b':1.6197864502629864\n",
       "Iteration 1:\t'a':-0.6075798619541546\t'b':0.6295654367232947\n",
       "Iteration 2:\t'a':-1.1917898915532659\t'b':1.234915392266104\n",
       "Iteration 3:\t'a':-0.8346458695522601\t'b':0.864847938975313\n",
       "Iteration 4:\t'a':-1.0529780548770777\t'b':1.0910805813190978\n",
       "Iteration 5:\t'a':-0.9195054493953099\t'b':0.9527782042612687\n",
       "Iteration 6:\t'a':-1.001101007043343\t'b':1.037326337111074\n",
       "Iteration 7:\t'a':-0.9512193477780387\t'b':0.9856396855837521\n",
       "Iteration 8:\t'a':-0.9817134090085861\t'b':1.0172371893494805\n",
       "Iteration 9:\t'a':-0.9630715317328833\t'b':0.9979207466176986\n",
       "Iteration 10:\t'a':-0.9744678356143173\t'b':1.009729431334587\n",
       "Iteration 11:\t'a':-0.9675009545305503\t'b':1.0025104502478968\n",
       "Iteration 12:\t'a':-0.9717600048805861\t'b':1.0069236164200333\n",
       "Iteration 13:\t'a':-0.9691563276158195\t'b':1.0042257238187071\n",
       "Iteration 14:\t'a':-0.9707480287561949\t'b':1.0058750214441268\n",
       "Iteration 15:\t'a':-0.9697749770824875\t'b':1.0048667594192127\n",
       "Iteration 16:\t'a':-0.9703698309377035\t'b':1.0054831383524123\n",
       "Iteration 17:\t'a':-0.970006180045746\t'b':1.0051063285748898\n",
       "Iteration 18:\t'a':-0.9702284900636796\t'b':1.005336682989664\n",
       "Iteration 19:\t'a':-0.9700925856972479\t'b':1.0051958608571951\n",
       "Iteration 20:\t'a':-0.970175667858758\t'b':1.0052819493873955\n",
       "Iteration 21:\t'a':-0.9701248773967422\t'b':1.0052293210476442\n",
       "Iteration 22:\t'a':-0.9701559270346528\t'b':1.0052614942319062\n",
       "Iteration 23:\t'a':-0.9701369455177278\t'b':1.0052418258594957\n",
       "Iteration 24:\t'a':-0.9701485494528791\t'b':1.0052538496887236\n",
       "Iteration 25:\t'a':-0.9701414556409597\t'b':1.0052464991837462\n",
       "Iteration 26:\t'a':-0.9701457922877007\t'b':1.0052509927541722\n",
       "Iteration 27:\t'a':-0.9701431411735796\t'b':1.0052482457081884\n",
       "Iteration 28:\t'a':-0.9701447618742035\t'b':1.005249925054659\n",
       "Iteration 29:\t'a':-0.9701437710943303\t'b':1.0052488984229304\n"
      ]
     },
     "execution_count": 53,
     "metadata": {},
     "output_type": "execute_result"
    }
   ],
   "source": [
    "emissionsExample1 = showIters showMap mapConverged $\n",
    "  meanDescent 100 10 -- sample 100 symbolic sequences, and 10 emissions from each\n",
    "  (symbols \"abab\") -- the generating and prior sequence model\n",
    "  (Map.fromList [('a',0), ('b',0)]) -- the initial distribution means\n",
    "  (Map.fromList [('a', (0,4)), ('b', (0,4))]) -- the distribution prior distributions (mean, stddev)\n",
    "  (Map.fromList [('a',-1),('b',1)]) -- the generating emission distribution means\n",
    "\n",
    "emissionsExample1"
   ]
  },
  {
   "cell_type": "markdown",
   "metadata": {},
   "source": [
    "## Example 2"
   ]
  },
  {
   "cell_type": "code",
   "execution_count": 54,
   "metadata": {},
   "outputs": [
    {
     "data": {
      "text/plain": [
       "Generating sequence: \"ba\"\n",
       "Generated emissions: [0.3651256936676718,-0.9261299350874203]\n"
      ]
     },
     "execution_count": 54,
     "metadata": {},
     "output_type": "execute_result"
    }
   ],
   "source": [
    "exampleEmissions (Map.fromList [('a',(-1,1)),('b',(1,1))]) (eitherOr 0.5 (symbols \"ab\") (symbols \"ba\"))"
   ]
  },
  {
   "cell_type": "code",
   "execution_count": 55,
   "metadata": {},
   "outputs": [
    {
     "data": {
      "text/plain": [
       "Iteration 0:\t'a':5.297834456115842e-2\t'b':5.297834456115842e-2\n",
       "Iteration 1:\t'a':1.8004359284456553e-2\t'b':1.8004359284456553e-2\n",
       "Iteration 2:\t'a':4.1092654252281306e-2\t'b':4.1092654252281306e-2\n",
       "Iteration 3:\t'a':2.5850772027426694e-2\t'b':2.5850772027426694e-2\n",
       "Iteration 4:\t'a':3.5912795839929436e-2\t'b':3.5912795839929436e-2\n",
       "Iteration 5:\t'a':2.9270287932454397e-2\t'b':2.9270287932454397e-2\n",
       "Iteration 6:\t'a':3.3655381043247896e-2\t'b':3.3655381043247896e-2\n",
       "Iteration 7:\t'a':3.0760534419327343e-2\t'b':3.0760534419327343e-2\n",
       "Iteration 8:\t'a':3.2671585510902046e-2\t'b':3.2671585510902046e-2\n",
       "Iteration 9:\t'a':3.1409993188726414e-2\t'b':3.1409993188726414e-2\n",
       "Iteration 10:\t'a':3.2242841245163134e-2\t'b':3.2242841245163134e-2\n",
       "Iteration 11:\t'a':3.169303139540642e-2\t'b':3.169303139540642e-2\n",
       "Iteration 12:\t'a':3.205599180403266e-2\t'b':3.205599180403266e-2\n",
       "Iteration 13:\t'a':3.1816381221779294e-2\t'b':3.1816381221779294e-2\n",
       "Iteration 14:\t'a':3.19745616452167e-2\t'b':3.19745616452167e-2\n",
       "Iteration 15:\t'a':3.187013785005756e-2\t'b':3.187013785005756e-2\n",
       "Iteration 16:\t'a':3.1939073871080755e-2\t'b':3.1939073871080755e-2\n",
       "Iteration 17:\t'a':3.1893565325954804e-2\t'b':3.1893565325954804e-2\n",
       "Iteration 18:\t'a':3.192360807644596e-2\t'b':3.192360807644596e-2\n",
       "Iteration 19:\t'a':3.1903775166941574e-2\t'b':3.1903775166941574e-2\n",
       "Iteration 20:\t'a':3.191686798610786e-2\t'b':3.191686798610786e-2\n",
       "Iteration 21:\t'a':3.190822467970571e-2\t'b':3.190822467970571e-2\n",
       "Iteration 22:\t'a':3.191393061244853e-2\t'b':3.191393061244853e-2\n",
       "Iteration 23:\t'a':3.1910163805286024e-2\t'b':3.1910163805286024e-2\n",
       "Iteration 24:\t'a':3.191265048657707e-2\t'b':3.191265048657707e-2\n",
       "Iteration 25:\t'a':3.191100888838066e-2\t'b':3.191100888838066e-2\n",
       "Iteration 26:\t'a':3.1912092599687934e-2\t'b':3.1912092599687934e-2\n"
      ]
     },
     "execution_count": 55,
     "metadata": {},
     "output_type": "execute_result"
    }
   ],
   "source": [
    "emissionsExample2a = showIters showMap mapConverged $\n",
    "  meanDescent 100 10 -- sample 100 symbolic sequences, and 10 emissions from each\n",
    "  (eitherOr 0.5 (symbols \"ab\") (symbols \"ba\")) -- the generating and prior sequence model\n",
    "  (Map.fromList [('a',0), ('b',0)]) -- the initial distribution means\n",
    "  (Map.fromList [('a', (0.0,4)), ('b', (0.0,4))]) -- the distribution prior distributions (mean, stddev)\n",
    "  (Map.fromList [('a',-1),('b',1)]) -- the generating emission distribution means\n",
    "\n",
    "emissionsExample2a"
   ]
  },
  {
   "cell_type": "code",
   "execution_count": 56,
   "metadata": {},
   "outputs": [
    {
     "data": {
      "text/plain": [
       "Iteration 0:\t'a':6.854932378683323e-2\t'b':0.4591743237868322\n",
       "Iteration 1:\t'a':-1.7980537409380013\t'b':0.8374317887140226\n",
       "Iteration 2:\t'a':-0.4354854058077964\t'b':1.2015769033491164\n",
       "Iteration 3:\t'a':-1.2627828491673299\t'b':0.888973670886968\n",
       "Iteration 4:\t'a':-0.7659513335549879\t'b':1.144654710797567\n",
       "Iteration 5:\t'a':-1.0755356996521863\t'b':0.9574632101627943\n",
       "Iteration 6:\t'a':-0.881299972499825\t'b':1.091177176282741\n",
       "Iteration 7:\t'a':-1.0047411851225896\t'b':0.9981203492061896\n",
       "Iteration 8:\t'a':-0.9257056128908115\t'b':1.062007310994669\n",
       "Iteration 9:\t'a':-0.9766711774556309\t'b':1.0186216714601741\n",
       "Iteration 10:\t'a':-0.9436348736766563\t'b':1.0478719047623846\n",
       "Iteration 11:\t'a':-0.9651406877001455\t'b':1.0282588720408747\n",
       "Iteration 12:\t'a':-0.9510953341138412\t'b':1.0413583821260737\n",
       "Iteration 13:\t'a':-0.9602916365861104\t'b':1.0326348331902007\n",
       "Iteration 14:\t'a':-0.9542585524113164\t'b':1.0384316509215674\n",
       "Iteration 15:\t'a':-0.9582223865740058\t'b':1.034585901404014\n",
       "Iteration 16:\t'a':-0.9556151056327333\t'b':1.0371341659391506\n",
       "Iteration 17:\t'a':-0.9573315862468268\t'b':1.0354471809848342\n",
       "Iteration 18:\t'a':-0.9562008059841572\t'b':1.0365632197888102\n",
       "Iteration 19:\t'a':-0.9569461155942185\t'b':1.0358252777494061\n",
       "Iteration 20:\t'a':-0.9564546855707191\t'b':1.0363130255726258\n",
       "Iteration 21:\t'a':-0.9567788109131811\t'b':1.035990740539713\n",
       "Iteration 22:\t'a':-0.9565649851088697\t'b':1.0362036465847726\n",
       "Iteration 23:\t'a':-0.9567060697986123\t'b':1.0360630215770763\n",
       "Iteration 24:\t'a':-0.9566129687187614\t'b':1.0361558929146755\n",
       "Iteration 25:\t'a':-0.9566744115564979\t'b':1.0360945648987079\n",
       "Iteration 26:\t'a':-0.9566338588901976\t'b':1.0361350601787962\n",
       "Iteration 27:\t'a':-0.956660625384764\t'b':1.0361083223650025\n",
       "Iteration 28:\t'a':-0.9566429576158698\t'b':1.0361259757996757\n",
       "Iteration 29:\t'a':-0.9566546199545314\t'b':1.036114320625044\n",
       "Iteration 30:\t'a':-0.9566469215632265\t'b':1.0361220154358743\n",
       "Iteration 31:\t'a':-0.9566520034172585\t'b':1.0361169353713087\n",
       "Iteration 32:\t'a':-0.9566486487430457\t'b':1.0361202891511732\n",
       "Iteration 33:\t'a':-0.9566508632804821\t'b':1.0361180750607177\n",
       "Iteration 34:\t'a':-0.956649401375593\t'b':1.0361195367422145\n"
      ]
     },
     "execution_count": 56,
     "metadata": {},
     "output_type": "execute_result"
    }
   ],
   "source": [
    "emissionsExample2b = showIters showMap mapConverged $\n",
    "  meanDescent 100 10 -- sample 100 symbolic sequences, and 10 emissions from each\n",
    "  (eitherOr 0.5 (symbols \"ab\") (symbols \"ba\")) -- the generating and prior sequence model\n",
    "  (Map.fromList [('a',0), ('b',0)]) -- the initial distribution means\n",
    "  (Map.fromList [('a', (-0.5,4)), ('b', (0.5,4))]) -- the distribution prior distributions (mean, stddev)\n",
    "  (Map.fromList [('a',-1),('b',1)]) -- the generating emission distribution means\n",
    "  \n",
    "emissionsExample2b"
   ]
  },
  {
   "cell_type": "code",
   "execution_count": 57,
   "metadata": {},
   "outputs": [
    {
     "data": {
      "text/plain": [
       "Iteration 0:\t'a':-1.0382290118510533\t'b':1.7532791648077055\n",
       "Iteration 1:\t'a':-0.9001168359318837\t'b':0.6068345466332241\n",
       "Iteration 2:\t'a':-0.8919454952350013\t'b':1.2643201697689705\n",
       "Iteration 3:\t'a':-0.967862831396625\t'b':0.9007999009004626\n",
       "Iteration 4:\t'a':-0.8946070676147433\t'b':1.1176416185642601\n",
       "Iteration 5:\t'a':-0.9556771872352574\t'b':0.9872020726991502\n",
       "Iteration 6:\t'a':-0.9095463235251442\t'b':1.0674975115947847\n",
       "Iteration 7:\t'a':-0.9429350295115143\t'b':1.0174251037515782\n",
       "Iteration 8:\t'a':-0.9194777437354328\t'b':1.0490651939020514\n",
       "Iteration 9:\t'a':-0.935661665688284\t'b':1.0288762387783925\n",
       "Iteration 10:\t'a':-0.9246369095824277\t'b':1.0418632648050747\n",
       "Iteration 11:\t'a':-0.9320822074017978\t'b':1.0334570345760101\n",
       "Iteration 12:\t'a':-0.9270853093608795\t'b':1.0389246218483155\n",
       "Iteration 13:\t'a':-0.9304241431837297\t'b':1.0353552602886107\n",
       "Iteration 14:\t'a':-0.9282003547109309\t'b':1.037691960173826\n",
       "Iteration 15:\t'a':-0.9296780212172162\t'b':1.0361589917875158\n",
       "Iteration 16:\t'a':-0.9286978195981046\t'b':1.0371662796092207\n",
       "Iteration 17:\t'a':-0.9293472131825338\t'b':1.0365036196174846\n",
       "Iteration 18:\t'a':-0.9289173818508744\t'b':1.0369399486544653\n",
       "Iteration 19:\t'a':-0.9292016912002482\t'b':1.0366524568229778\n",
       "Iteration 20:\t'a':-0.9290137315060942\t'b':1.036841975252128\n",
       "Iteration 21:\t'a':-0.9291379470541734\t'b':1.0367169962578693\n",
       "Iteration 22:\t'a':-0.9290558803494416\t'b':1.0367994368877282\n",
       "Iteration 23:\t'a':-0.9291100890503854\t'b':1.0367450450435705\n",
       "Iteration 24:\t'a':-0.9290742872365587\t'b':1.0367809365583462\n",
       "Iteration 25:\t'a':-0.9290979296689128\t'b':1.0367572501917406\n",
       "Iteration 26:\t'a':-0.9290823182268808\t'b':1.0367728831521468\n",
       "Iteration 27:\t'a':-0.9290926260509562\t'b':1.0367625647886756\n",
       "Iteration 28:\t'a':-0.9290858203786689\t'b':1.03676937562301\n",
       "Iteration 29:\t'a':-0.929090313625495\t'b':1.036764879847886\n",
       "Iteration 30:\t'a':-0.9290873471651453\t'b':1.0367678475465592\n",
       "Iteration 31:\t'a':-0.9290893055979734\t'b':1.0367658885072182\n",
       "Iteration 32:\t'a':-0.9290880126746349\t'b':1.0367671817276183\n"
      ]
     },
     "execution_count": 57,
     "metadata": {},
     "output_type": "execute_result"
    }
   ],
   "source": [
    "emissionsExample2c = showIters showMap mapConverged $\n",
    "  meanDescent 100 10 -- sample 100 symbolic sequences, and 10 emissions from each\n",
    "  (eitherOr 0.75 (symbols \"ab\") (symbols \"ba\")) -- the generating and prior sequence model\n",
    "  (Map.fromList [('a',0), ('b',0)]) -- the initial distribution means\n",
    "  (Map.fromList [('a', (0.0,4)), ('b', (0.0,4))]) -- the distribution prior distributions (mean, stddev)\n",
    "  (Map.fromList [('a',-1),('b',1)]) -- the generating emission distribution means\n",
    "\n",
    "emissionsExample2c"
   ]
  }
 ],
 "metadata": {
  "kernelspec": {
   "display_name": "Haskell",
   "language": "haskell",
   "name": "haskell"
  },
  "language_info": {
   "codemirror_mode": "ihaskell",
   "file_extension": ".hs",
   "name": "haskell",
   "pygments_lexer": "Haskell",
   "version": "8.4.3"
  }
 },
 "nbformat": 4,
 "nbformat_minor": 1
}
